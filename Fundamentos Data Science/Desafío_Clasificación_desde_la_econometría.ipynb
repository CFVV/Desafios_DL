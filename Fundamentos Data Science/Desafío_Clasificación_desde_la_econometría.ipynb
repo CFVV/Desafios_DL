{
 "cells": [
  {
   "cell_type": "markdown",
   "metadata": {},
   "source": [
    "## Desafío - Clasificación desde la econometría\n",
    "### Camila Vera Villa - lunes 29 de julio"
   ]
  },
  {
   "cell_type": "markdown",
   "metadata": {},
   "source": [
    "### Descripción\n",
    "\n",
    "En esta sesión trabajaremos con:\n",
    "* sbp : Presión Sanguínea Sistólica.\n",
    "* tobacco : Promedio tabaco consumido por día.\n",
    "* ldl : Lipoproteína de baja densidad.\n",
    "* adiposity : Adiposidad.\n",
    "* famhist : Antecedentes familiares de enfermedades cardiácas. (Binaria)\n",
    "* types : Personalidad tipo A\n",
    "* obesity : Obesidad.\n",
    "* alcohol : Consumo actual de alcohol.\n",
    "* age : edad.\n",
    "* chd : Enfermedad coronaria. (dummy)"
   ]
  },
  {
   "cell_type": "markdown",
   "metadata": {},
   "source": [
    "### Desafío 1: Preparar el ambiente de trabajo\n",
    "\n",
    "* Se detallan los pasos a seguir\n",
    "* tip: Los tips o sugerencias preceden de tip\n",
    "* Importe las librerías y base de datos southafricanheart.csv "
   ]
  },
  {
   "cell_type": "code",
   "execution_count": 1,
   "metadata": {},
   "outputs": [],
   "source": [
    "# librerias clasicas\n",
    "import numpy as np\n",
    "import pandas as pd\n",
    "import matplotlib.pyplot as plt\n",
    "import seaborn as sns\n",
    "import scipy.stats as stats\n",
    "\n",
    "#statmodels para generar modelos de regresio\n",
    "import statsmodels.api as sm\n",
    "import statsmodels.formula.api as smf\n",
    "\n",
    "#sklearn\n",
    "from sklearn import linear_model\n",
    "from sklearn.linear_model import LinearRegression\n",
    "from sklearn.model_selection import train_test_split\n",
    "from sklearn.metrics import mean_squared_error, r2_score\n",
    "\n",
    "\n",
    "# graficos\n",
    "plt.style.use('seaborn') \n",
    "plt.rcParams[\"figure.figsize\"] = (6, 3) # Tamaño \n",
    "plt.rcParams[\"figure.dpi\"] = 200 # resolución "
   ]
  },
  {
   "cell_type": "code",
   "execution_count": 2,
   "metadata": {},
   "outputs": [
    {
     "data": {
      "text/html": [
       "<div>\n",
       "<style scoped>\n",
       "    .dataframe tbody tr th:only-of-type {\n",
       "        vertical-align: middle;\n",
       "    }\n",
       "\n",
       "    .dataframe tbody tr th {\n",
       "        vertical-align: top;\n",
       "    }\n",
       "\n",
       "    .dataframe thead th {\n",
       "        text-align: right;\n",
       "    }\n",
       "</style>\n",
       "<table border=\"1\" class=\"dataframe\">\n",
       "  <thead>\n",
       "    <tr style=\"text-align: right;\">\n",
       "      <th></th>\n",
       "      <th>Unnamed: 0</th>\n",
       "      <th>sbp</th>\n",
       "      <th>tobacco</th>\n",
       "      <th>ldl</th>\n",
       "      <th>adiposity</th>\n",
       "      <th>famhist</th>\n",
       "      <th>typea</th>\n",
       "      <th>obesity</th>\n",
       "      <th>alcohol</th>\n",
       "      <th>age</th>\n",
       "      <th>chd</th>\n",
       "    </tr>\n",
       "  </thead>\n",
       "  <tbody>\n",
       "    <tr>\n",
       "      <th>0</th>\n",
       "      <td>1</td>\n",
       "      <td>160</td>\n",
       "      <td>12.00</td>\n",
       "      <td>5.73</td>\n",
       "      <td>23.11</td>\n",
       "      <td>Present</td>\n",
       "      <td>49</td>\n",
       "      <td>25.30</td>\n",
       "      <td>97.20</td>\n",
       "      <td>52</td>\n",
       "      <td>1</td>\n",
       "    </tr>\n",
       "    <tr>\n",
       "      <th>1</th>\n",
       "      <td>2</td>\n",
       "      <td>144</td>\n",
       "      <td>0.01</td>\n",
       "      <td>4.41</td>\n",
       "      <td>28.61</td>\n",
       "      <td>Absent</td>\n",
       "      <td>55</td>\n",
       "      <td>28.87</td>\n",
       "      <td>2.06</td>\n",
       "      <td>63</td>\n",
       "      <td>1</td>\n",
       "    </tr>\n",
       "    <tr>\n",
       "      <th>2</th>\n",
       "      <td>3</td>\n",
       "      <td>118</td>\n",
       "      <td>0.08</td>\n",
       "      <td>3.48</td>\n",
       "      <td>32.28</td>\n",
       "      <td>Present</td>\n",
       "      <td>52</td>\n",
       "      <td>29.14</td>\n",
       "      <td>3.81</td>\n",
       "      <td>46</td>\n",
       "      <td>0</td>\n",
       "    </tr>\n",
       "    <tr>\n",
       "      <th>3</th>\n",
       "      <td>4</td>\n",
       "      <td>170</td>\n",
       "      <td>7.50</td>\n",
       "      <td>6.41</td>\n",
       "      <td>38.03</td>\n",
       "      <td>Present</td>\n",
       "      <td>51</td>\n",
       "      <td>31.99</td>\n",
       "      <td>24.26</td>\n",
       "      <td>58</td>\n",
       "      <td>1</td>\n",
       "    </tr>\n",
       "    <tr>\n",
       "      <th>4</th>\n",
       "      <td>5</td>\n",
       "      <td>134</td>\n",
       "      <td>13.60</td>\n",
       "      <td>3.50</td>\n",
       "      <td>27.78</td>\n",
       "      <td>Present</td>\n",
       "      <td>60</td>\n",
       "      <td>25.99</td>\n",
       "      <td>57.34</td>\n",
       "      <td>49</td>\n",
       "      <td>1</td>\n",
       "    </tr>\n",
       "  </tbody>\n",
       "</table>\n",
       "</div>"
      ],
      "text/plain": [
       "   Unnamed: 0  sbp  tobacco   ldl  adiposity  famhist  typea  obesity  \\\n",
       "0           1  160    12.00  5.73      23.11  Present     49    25.30   \n",
       "1           2  144     0.01  4.41      28.61   Absent     55    28.87   \n",
       "2           3  118     0.08  3.48      32.28  Present     52    29.14   \n",
       "3           4  170     7.50  6.41      38.03  Present     51    31.99   \n",
       "4           5  134    13.60  3.50      27.78  Present     60    25.99   \n",
       "\n",
       "   alcohol  age  chd  \n",
       "0    97.20   52    1  \n",
       "1     2.06   63    1  \n",
       "2     3.81   46    0  \n",
       "3    24.26   58    1  \n",
       "4    57.34   49    1  "
      ]
     },
     "execution_count": 2,
     "metadata": {},
     "output_type": "execute_result"
    }
   ],
   "source": [
    "#carga del data set\n",
    "df=pd.read_csv('southafricanheart.csv')\n",
    "df.head()"
   ]
  },
  {
   "cell_type": "code",
   "execution_count": 3,
   "metadata": {},
   "outputs": [
    {
     "data": {
      "text/plain": [
       "(462, 11)"
      ]
     },
     "execution_count": 3,
     "metadata": {},
     "output_type": "execute_result"
    }
   ],
   "source": [
    "df.shape"
   ]
  },
  {
   "cell_type": "code",
   "execution_count": 4,
   "metadata": {},
   "outputs": [],
   "source": [
    "df.drop(df.columns[[0]], axis=1, inplace=True) # eliminar la primera columna"
   ]
  },
  {
   "cell_type": "code",
   "execution_count": 5,
   "metadata": {},
   "outputs": [
    {
     "data": {
      "text/html": [
       "<div>\n",
       "<style scoped>\n",
       "    .dataframe tbody tr th:only-of-type {\n",
       "        vertical-align: middle;\n",
       "    }\n",
       "\n",
       "    .dataframe tbody tr th {\n",
       "        vertical-align: top;\n",
       "    }\n",
       "\n",
       "    .dataframe thead th {\n",
       "        text-align: right;\n",
       "    }\n",
       "</style>\n",
       "<table border=\"1\" class=\"dataframe\">\n",
       "  <thead>\n",
       "    <tr style=\"text-align: right;\">\n",
       "      <th></th>\n",
       "      <th>sbp</th>\n",
       "      <th>tobacco</th>\n",
       "      <th>ldl</th>\n",
       "      <th>adiposity</th>\n",
       "      <th>famhist</th>\n",
       "      <th>typea</th>\n",
       "      <th>obesity</th>\n",
       "      <th>alcohol</th>\n",
       "      <th>age</th>\n",
       "      <th>chd</th>\n",
       "    </tr>\n",
       "  </thead>\n",
       "  <tbody>\n",
       "    <tr>\n",
       "      <th>0</th>\n",
       "      <td>160</td>\n",
       "      <td>12.00</td>\n",
       "      <td>5.73</td>\n",
       "      <td>23.11</td>\n",
       "      <td>Present</td>\n",
       "      <td>49</td>\n",
       "      <td>25.30</td>\n",
       "      <td>97.20</td>\n",
       "      <td>52</td>\n",
       "      <td>1</td>\n",
       "    </tr>\n",
       "    <tr>\n",
       "      <th>1</th>\n",
       "      <td>144</td>\n",
       "      <td>0.01</td>\n",
       "      <td>4.41</td>\n",
       "      <td>28.61</td>\n",
       "      <td>Absent</td>\n",
       "      <td>55</td>\n",
       "      <td>28.87</td>\n",
       "      <td>2.06</td>\n",
       "      <td>63</td>\n",
       "      <td>1</td>\n",
       "    </tr>\n",
       "    <tr>\n",
       "      <th>2</th>\n",
       "      <td>118</td>\n",
       "      <td>0.08</td>\n",
       "      <td>3.48</td>\n",
       "      <td>32.28</td>\n",
       "      <td>Present</td>\n",
       "      <td>52</td>\n",
       "      <td>29.14</td>\n",
       "      <td>3.81</td>\n",
       "      <td>46</td>\n",
       "      <td>0</td>\n",
       "    </tr>\n",
       "    <tr>\n",
       "      <th>3</th>\n",
       "      <td>170</td>\n",
       "      <td>7.50</td>\n",
       "      <td>6.41</td>\n",
       "      <td>38.03</td>\n",
       "      <td>Present</td>\n",
       "      <td>51</td>\n",
       "      <td>31.99</td>\n",
       "      <td>24.26</td>\n",
       "      <td>58</td>\n",
       "      <td>1</td>\n",
       "    </tr>\n",
       "    <tr>\n",
       "      <th>4</th>\n",
       "      <td>134</td>\n",
       "      <td>13.60</td>\n",
       "      <td>3.50</td>\n",
       "      <td>27.78</td>\n",
       "      <td>Present</td>\n",
       "      <td>60</td>\n",
       "      <td>25.99</td>\n",
       "      <td>57.34</td>\n",
       "      <td>49</td>\n",
       "      <td>1</td>\n",
       "    </tr>\n",
       "  </tbody>\n",
       "</table>\n",
       "</div>"
      ],
      "text/plain": [
       "   sbp  tobacco   ldl  adiposity  famhist  typea  obesity  alcohol  age  chd\n",
       "0  160    12.00  5.73      23.11  Present     49    25.30    97.20   52    1\n",
       "1  144     0.01  4.41      28.61   Absent     55    28.87     2.06   63    1\n",
       "2  118     0.08  3.48      32.28  Present     52    29.14     3.81   46    0\n",
       "3  170     7.50  6.41      38.03  Present     51    31.99    24.26   58    1\n",
       "4  134    13.60  3.50      27.78  Present     60    25.99    57.34   49    1"
      ]
     },
     "execution_count": 5,
     "metadata": {},
     "output_type": "execute_result"
    }
   ],
   "source": [
    "df.head()"
   ]
  },
  {
   "cell_type": "code",
   "execution_count": 6,
   "metadata": {},
   "outputs": [
    {
     "name": "stdout",
     "output_type": "stream",
     "text": [
      "La base de datos tiene  462 observaciones y  10  columnas\n",
      "Las variables de la base de datos son  Index(['sbp', 'tobacco', 'ldl', 'adiposity', 'famhist', 'typea', 'obesity',\n",
      "       'alcohol', 'age', 'chd'],\n",
      "      dtype='object')\n"
     ]
    }
   ],
   "source": [
    "print(\"La base de datos tiene \", df.shape[0], \"observaciones y \", df.shape[1], \" columnas\")\n",
    "print(\"Las variables de la base de datos son \", df.columns)"
   ]
  },
  {
   "cell_type": "code",
   "execution_count": 7,
   "metadata": {},
   "outputs": [
    {
     "data": {
      "text/plain": [
       "Index(['sbp', 'tobacco', 'ldl', 'adiposity', 'famhist', 'typea', 'obesity',\n",
       "       'alcohol', 'age', 'chd'],\n",
       "      dtype='object')"
      ]
     },
     "execution_count": 7,
     "metadata": {},
     "output_type": "execute_result"
    }
   ],
   "source": [
    "df.columns"
   ]
  },
  {
   "attachments": {
    "image.png": {
     "image/png": "[encoded data removed]"
    },
    "modelo.PNG": {
     "image/png": "[encoded data removed]"
    }
   },
   "cell_type": "markdown",
   "metadata": {},
   "source": [
    "### Desafío 2\n",
    "A continuación se presenta el siguiente modelo a estimar:\n",
    "\n",
    "![modelo.PNG](attachment:modelo.PNG)\n",
    "\n",
    "Para ello ejecute los siguientes pasos:\n",
    "\n",
    "1. Recodifique famhist a dummy, asignando 1 a la categoría minoritaria.\n",
    "2. Utilice smf.logit para estimar el modelo.\n",
    "3. Implemente una función inverse_logit que realice el mapeo de log-odds a probabilidad.\n",
    "4. Con el modelo estimado, responda lo siguiente:\n",
    "    * 4.1 ¿Cuál es la probabilidad de un individuo con antecedentes familiares de tener una enfermedad coronaria?\n",
    "    * 4.2 ¿Cuál es la probabilidad de un individuo sin antecedentes familiares de tener una enfermedad coronaria?\n",
    "    * 4.3 ¿Cuál es la diferencia en la probabilidad entre un individuo con antecedentes y otro sin antecedentes?\n",
    "    \n",
    "    * 4.4 Replique el modelo con smf.ols y comente las similitudes entre los coeficientes estimados.\n",
    "    \n",
    "    ![image.png](attachment:image.png)\n",
    "\n",
    "    * 4.5 Estime el mismo modelo con LPM\n",
    "\n",
    "    \n",
    "\n",
    "    \n",
    "    "
   ]
  },
  {
   "cell_type": "code",
   "execution_count": 8,
   "metadata": {},
   "outputs": [
    {
     "data": {
      "text/plain": [
       "Absent     270\n",
       "Present    192\n",
       "Name: famhist, dtype: int64"
      ]
     },
     "execution_count": 8,
     "metadata": {},
     "output_type": "execute_result"
    }
   ],
   "source": [
    "#1. RECODIFICACION FAMHIST A DUMMY\n",
    "df['famhist'].value_counts()\n"
   ]
  },
  {
   "cell_type": "code",
   "execution_count": 9,
   "metadata": {},
   "outputs": [],
   "source": [
    "df['famhist_bin'] = np.where(df['famhist']=='Present',1,0)"
   ]
  },
  {
   "cell_type": "code",
   "execution_count": 10,
   "metadata": {
    "scrolled": true
   },
   "outputs": [
    {
     "name": "stdout",
     "output_type": "stream",
     "text": [
      "Optimization terminated successfully.\n",
      "         Current function value: 0.608111\n",
      "         Iterations 5\n"
     ]
    },
    {
     "data": {
      "text/html": [
       "<table class=\"simpletable\">\n",
       "<caption>Logit Regression Results</caption>\n",
       "<tr>\n",
       "  <th>Dep. Variable:</th>        <td>chd</td>       <th>  No. Observations:  </th>  <td>   462</td>  \n",
       "</tr>\n",
       "<tr>\n",
       "  <th>Model:</th>               <td>Logit</td>      <th>  Df Residuals:      </th>  <td>   460</td>  \n",
       "</tr>\n",
       "<tr>\n",
       "  <th>Method:</th>               <td>MLE</td>       <th>  Df Model:          </th>  <td>     1</td>  \n",
       "</tr>\n",
       "<tr>\n",
       "  <th>Date:</th>          <td>Sat, 10 Aug 2019</td> <th>  Pseudo R-squ.:     </th>  <td>0.05740</td> \n",
       "</tr>\n",
       "<tr>\n",
       "  <th>Time:</th>              <td>00:35:19</td>     <th>  Log-Likelihood:    </th> <td> -280.95</td> \n",
       "</tr>\n",
       "<tr>\n",
       "  <th>converged:</th>           <td>True</td>       <th>  LL-Null:           </th> <td> -298.05</td> \n",
       "</tr>\n",
       "<tr>\n",
       "  <th> </th>                      <td> </td>        <th>  LLR p-value:       </th> <td>4.937e-09</td>\n",
       "</tr>\n",
       "</table>\n",
       "<table class=\"simpletable\">\n",
       "<tr>\n",
       "       <td></td>          <th>coef</th>     <th>std err</th>      <th>z</th>      <th>P>|z|</th>  <th>[0.025</th>    <th>0.975]</th>  \n",
       "</tr>\n",
       "<tr>\n",
       "  <th>Intercept</th>   <td>   -1.1690</td> <td>    0.143</td> <td>   -8.169</td> <td> 0.000</td> <td>   -1.449</td> <td>   -0.889</td>\n",
       "</tr>\n",
       "<tr>\n",
       "  <th>famhist_bin</th> <td>    1.1690</td> <td>    0.203</td> <td>    5.751</td> <td> 0.000</td> <td>    0.771</td> <td>    1.567</td>\n",
       "</tr>\n",
       "</table>"
      ],
      "text/plain": [
       "<class 'statsmodels.iolib.summary.Summary'>\n",
       "\"\"\"\n",
       "                           Logit Regression Results                           \n",
       "==============================================================================\n",
       "Dep. Variable:                    chd   No. Observations:                  462\n",
       "Model:                          Logit   Df Residuals:                      460\n",
       "Method:                           MLE   Df Model:                            1\n",
       "Date:                Sat, 10 Aug 2019   Pseudo R-squ.:                 0.05740\n",
       "Time:                        00:35:19   Log-Likelihood:                -280.95\n",
       "converged:                       True   LL-Null:                       -298.05\n",
       "                                        LLR p-value:                 4.937e-09\n",
       "===============================================================================\n",
       "                  coef    std err          z      P>|z|      [0.025      0.975]\n",
       "-------------------------------------------------------------------------------\n",
       "Intercept      -1.1690      0.143     -8.169      0.000      -1.449      -0.889\n",
       "famhist_bin     1.1690      0.203      5.751      0.000       0.771       1.567\n",
       "===============================================================================\n",
       "\"\"\""
      ]
     },
     "execution_count": 10,
     "metadata": {},
     "output_type": "execute_result"
    }
   ],
   "source": [
    "#2. ESTIMACION DEL MODELO\n",
    "m1_logit = smf.logit('chd ~ famhist_bin', df).fit() #Antecedentes familiares de enfermedades cardiacas\n",
    "m1_logit.summary()"
   ]
  },
  {
   "cell_type": "code",
   "execution_count": 11,
   "metadata": {},
   "outputs": [
    {
     "name": "stdout",
     "output_type": "stream",
     "text": [
      "El log odds estimado es de  -0.0\n"
     ]
    }
   ],
   "source": [
    "#log odds\n",
    "famhist_mean = df['famhist_bin'].mean() #aislar el promedio\n",
    "\n",
    "estimate_y = m1_logit.params['Intercept'] + (m1_logit.params['famhist_bin']*1)#extraer la combinacion lineal de parametros 1= tienen antecedentes, 0 = sin antecedentes\n",
    "print(\"El log odds estimado es de \", round(estimate_y, 5))"
   ]
  },
  {
   "cell_type": "code",
   "execution_count": 12,
   "metadata": {},
   "outputs": [
    {
     "name": "stdout",
     "output_type": "stream",
     "text": [
      "0.4999999999999999\n"
     ]
    }
   ],
   "source": [
    "# 3.INVERSE LOGIT PARA EL MAPEO DE LOG-ODDS A PROBABILIDAD\n",
    "\n",
    "def invlogit(x):\n",
    "    return 1 / (1+ np.exp(-x))\n",
    "\n",
    "print(invlogit(estimate_y))"
   ]
  },
  {
   "cell_type": "code",
   "execution_count": 13,
   "metadata": {},
   "outputs": [
    {
     "name": "stdout",
     "output_type": "stream",
     "text": [
      "La probabilidad promedio de sufrir una enfermedad coronaria con  antecedentes familiares es:  0.5\n"
     ]
    }
   ],
   "source": [
    "# 4. Con el modelo estimado, responda lo siguiente:\n",
    "# 4.1\n",
    "P_con_ant = invlogit(m1_logit.params['Intercept'] + (m1_logit.params['famhist_bin']*1))\n",
    "print(\"La probabilidad promedio de sufrir una enfermedad coronaria con  antecedentes familiares es: \",round(P_con_ant,2))\n"
   ]
  },
  {
   "cell_type": "code",
   "execution_count": 14,
   "metadata": {},
   "outputs": [
    {
     "name": "stdout",
     "output_type": "stream",
     "text": [
      "La probabilidad promedio de sufrir una enfermedad coronaria sin presentar antecedentes familiares es:  0.24\n"
     ]
    }
   ],
   "source": [
    "# 4.2\n",
    "P_sin_ant = invlogit(m1_logit.params['Intercept'] + (m1_logit.params['famhist_bin'] * 0))\n",
    "print(\"La probabilidad promedio de sufrir una enfermedad coronaria sin presentar antecedentes familiares es: \",round(P_sin_ant, 2))"
   ]
  },
  {
   "cell_type": "code",
   "execution_count": 15,
   "metadata": {
    "scrolled": true
   },
   "outputs": [
    {
     "name": "stdout",
     "output_type": "stream",
     "text": [
      "La diferencia de probabilidades de padecer una enfermedad coronaria entre un individuo con antecedentes y sin antecedentes familiares es:  0.26\n"
     ]
    }
   ],
   "source": [
    "# 4.3\n",
    "\n",
    "print('La diferencia de probabilidades de padecer una enfermedad coronaria entre un individuo con antecedentes y sin antecedentes familiares es: ',round(P_con_ant - P_sin_ant,2))"
   ]
  },
  {
   "cell_type": "code",
   "execution_count": 16,
   "metadata": {
    "scrolled": true
   },
   "outputs": [
    {
     "data": {
      "text/html": [
       "<table class=\"simpletable\">\n",
       "<caption>OLS Regression Results</caption>\n",
       "<tr>\n",
       "  <th>Dep. Variable:</th>           <td>chd</td>       <th>  R-squared:         </th> <td>   0.074</td>\n",
       "</tr>\n",
       "<tr>\n",
       "  <th>Model:</th>                   <td>OLS</td>       <th>  Adj. R-squared:    </th> <td>   0.072</td>\n",
       "</tr>\n",
       "<tr>\n",
       "  <th>Method:</th>             <td>Least Squares</td>  <th>  F-statistic:       </th> <td>   36.86</td>\n",
       "</tr>\n",
       "<tr>\n",
       "  <th>Date:</th>             <td>Sat, 10 Aug 2019</td> <th>  Prob (F-statistic):</th> <td>2.66e-09</td>\n",
       "</tr>\n",
       "<tr>\n",
       "  <th>Time:</th>                 <td>00:35:20</td>     <th>  Log-Likelihood:    </th> <td> -294.59</td>\n",
       "</tr>\n",
       "<tr>\n",
       "  <th>No. Observations:</th>      <td>   462</td>      <th>  AIC:               </th> <td>   593.2</td>\n",
       "</tr>\n",
       "<tr>\n",
       "  <th>Df Residuals:</th>          <td>   460</td>      <th>  BIC:               </th> <td>   601.4</td>\n",
       "</tr>\n",
       "<tr>\n",
       "  <th>Df Model:</th>              <td>     1</td>      <th>                     </th>     <td> </td>   \n",
       "</tr>\n",
       "<tr>\n",
       "  <th>Covariance Type:</th>      <td>nonrobust</td>    <th>                     </th>     <td> </td>   \n",
       "</tr>\n",
       "</table>\n",
       "<table class=\"simpletable\">\n",
       "<tr>\n",
       "       <td></td>          <th>coef</th>     <th>std err</th>      <th>t</th>      <th>P>|t|</th>  <th>[0.025</th>    <th>0.975]</th>  \n",
       "</tr>\n",
       "<tr>\n",
       "  <th>Intercept</th>   <td>    0.2370</td> <td>    0.028</td> <td>    8.489</td> <td> 0.000</td> <td>    0.182</td> <td>    0.292</td>\n",
       "</tr>\n",
       "<tr>\n",
       "  <th>famhist_bin</th> <td>    0.2630</td> <td>    0.043</td> <td>    6.071</td> <td> 0.000</td> <td>    0.178</td> <td>    0.348</td>\n",
       "</tr>\n",
       "</table>\n",
       "<table class=\"simpletable\">\n",
       "<tr>\n",
       "  <th>Omnibus:</th>       <td>768.898</td> <th>  Durbin-Watson:     </th> <td>   1.961</td>\n",
       "</tr>\n",
       "<tr>\n",
       "  <th>Prob(Omnibus):</th> <td> 0.000</td>  <th>  Jarque-Bera (JB):  </th> <td>  58.778</td>\n",
       "</tr>\n",
       "<tr>\n",
       "  <th>Skew:</th>          <td> 0.579</td>  <th>  Prob(JB):          </th> <td>1.72e-13</td>\n",
       "</tr>\n",
       "<tr>\n",
       "  <th>Kurtosis:</th>      <td> 1.692</td>  <th>  Cond. No.          </th> <td>    2.47</td>\n",
       "</tr>\n",
       "</table><br/><br/>Warnings:<br/>[1] Standard Errors assume that the covariance matrix of the errors is correctly specified."
      ],
      "text/plain": [
       "<class 'statsmodels.iolib.summary.Summary'>\n",
       "\"\"\"\n",
       "                            OLS Regression Results                            \n",
       "==============================================================================\n",
       "Dep. Variable:                    chd   R-squared:                       0.074\n",
       "Model:                            OLS   Adj. R-squared:                  0.072\n",
       "Method:                 Least Squares   F-statistic:                     36.86\n",
       "Date:                Sat, 10 Aug 2019   Prob (F-statistic):           2.66e-09\n",
       "Time:                        00:35:20   Log-Likelihood:                -294.59\n",
       "No. Observations:                 462   AIC:                             593.2\n",
       "Df Residuals:                     460   BIC:                             601.4\n",
       "Df Model:                           1                                         \n",
       "Covariance Type:            nonrobust                                         \n",
       "===============================================================================\n",
       "                  coef    std err          t      P>|t|      [0.025      0.975]\n",
       "-------------------------------------------------------------------------------\n",
       "Intercept       0.2370      0.028      8.489      0.000       0.182       0.292\n",
       "famhist_bin     0.2630      0.043      6.071      0.000       0.178       0.348\n",
       "==============================================================================\n",
       "Omnibus:                      768.898   Durbin-Watson:                   1.961\n",
       "Prob(Omnibus):                  0.000   Jarque-Bera (JB):               58.778\n",
       "Skew:                           0.579   Prob(JB):                     1.72e-13\n",
       "Kurtosis:                       1.692   Cond. No.                         2.47\n",
       "==============================================================================\n",
       "\n",
       "Warnings:\n",
       "[1] Standard Errors assume that the covariance matrix of the errors is correctly specified.\n",
       "\"\"\""
      ]
     },
     "execution_count": 16,
     "metadata": {},
     "output_type": "execute_result"
    }
   ],
   "source": [
    "#4.4 Replique el modelo con smf.ols y comente las similitudes entre los coeficientes estimados.\n",
    "m1_ols = smf.ols('chd ~ famhist_bin',df).fit()\n",
    "m1_ols.summary()"
   ]
  },
  {
   "cell_type": "markdown",
   "metadata": {},
   "source": [
    "Ambos modelos se aproximan al mismo resultado, por ejemplo la suma de los valores de los coeficientes del modelo de regresión líneal se aproximan a 0.5 que se puede interpretar, como la probabilidad de ocurrencia, a pesar de que no corresponde a  una probabilidad directa, ya que los modelos de regresión lineal tienen coeficientes que pueden ser superiores al intervalo de probabilidad (0, 1), por está razon se requieren modelos de regresión logística, cuyo inverso de odds arrojó una probabilidad de 0.5, lo que quiere decir que hay un 50 % de probabilidad de sufrir un accidente coronario en caso de que éste presente el antecedente familiar."
   ]
  },
  {
   "attachments": {
    "image.png": {
     "image/png": "[encoded data removed]"
    }
   },
   "cell_type": "markdown",
   "metadata": {},
   "source": [
    "### Desafío 3 : Estimacion Completa\n",
    "\n",
    "Implemente un modelo con la siguiente forma\n",
    "\n",
    "![image.png](attachment:image.png)\n",
    "\n",
    "\n",
    "1. Depure el modelo manteniendo las variables con significancia estadística al 95%.\n",
    "2. Compare los estadísticos de bondad de ajuste entre ambos.\n",
    "2. Reporte de forma sucinta el efecto de las variables en el log-odds de tener una enfermedad coronaria."
   ]
  },
  {
   "cell_type": "code",
   "execution_count": 17,
   "metadata": {},
   "outputs": [
    {
     "name": "stdout",
     "output_type": "stream",
     "text": [
      "Optimization terminated successfully.\n",
      "         Current function value: 0.510974\n",
      "         Iterations 6\n"
     ]
    },
    {
     "data": {
      "text/html": [
       "<table class=\"simpletable\">\n",
       "<tr>\n",
       "        <td>Model:</td>              <td>Logit</td>      <td>Pseudo R-squared:</td>    <td>0.208</td>  \n",
       "</tr>\n",
       "<tr>\n",
       "  <td>Dependent Variable:</td>        <td>chd</td>             <td>AIC:</td>         <td>492.1400</td> \n",
       "</tr>\n",
       "<tr>\n",
       "         <td>Date:</td>        <td>2019-08-10 00:35</td>       <td>BIC:</td>         <td>533.4957</td> \n",
       "</tr>\n",
       "<tr>\n",
       "   <td>No. Observations:</td>         <td>462</td>        <td>Log-Likelihood:</td>    <td>-236.07</td> \n",
       "</tr>\n",
       "<tr>\n",
       "       <td>Df Model:</td>              <td>9</td>            <td>LL-Null:</td>        <td>-298.05</td> \n",
       "</tr>\n",
       "<tr>\n",
       "     <td>Df Residuals:</td>           <td>452</td>         <td>LLR p-value:</td>    <td>2.0548e-22</td>\n",
       "</tr>\n",
       "<tr>\n",
       "      <td>Converged:</td>           <td>1.0000</td>           <td>Scale:</td>         <td>1.0000</td>  \n",
       "</tr>\n",
       "<tr>\n",
       "    <td>No. Iterations:</td>        <td>6.0000</td>              <td></td>               <td></td>     \n",
       "</tr>\n",
       "</table>\n",
       "<table class=\"simpletable\">\n",
       "<tr>\n",
       "       <td></td>        <th>Coef.</th>  <th>Std.Err.</th>    <th>z</th>     <th>P>|z|</th> <th>[0.025</th>  <th>0.975]</th> \n",
       "</tr>\n",
       "<tr>\n",
       "  <th>Intercept</th>   <td>-6.1507</td>  <td>1.3083</td>  <td>-4.7015</td> <td>0.0000</td> <td>-8.7149</td> <td>-3.5866</td>\n",
       "</tr>\n",
       "<tr>\n",
       "  <th>sbp</th>         <td>0.0065</td>   <td>0.0057</td>  <td>1.1350</td>  <td>0.2564</td> <td>-0.0047</td> <td>0.0177</td> \n",
       "</tr>\n",
       "<tr>\n",
       "  <th>tobacco</th>     <td>0.0794</td>   <td>0.0266</td>  <td>2.9838</td>  <td>0.0028</td> <td>0.0272</td>  <td>0.1315</td> \n",
       "</tr>\n",
       "<tr>\n",
       "  <th>ldl</th>         <td>0.1739</td>   <td>0.0597</td>  <td>2.9152</td>  <td>0.0036</td> <td>0.0570</td>  <td>0.2909</td> \n",
       "</tr>\n",
       "<tr>\n",
       "  <th>adiposity</th>   <td>0.0186</td>   <td>0.0293</td>  <td>0.6346</td>  <td>0.5257</td> <td>-0.0388</td> <td>0.0760</td> \n",
       "</tr>\n",
       "<tr>\n",
       "  <th>typea</th>       <td>0.0396</td>   <td>0.0123</td>  <td>3.2138</td>  <td>0.0013</td> <td>0.0154</td>  <td>0.0637</td> \n",
       "</tr>\n",
       "<tr>\n",
       "  <th>obesity</th>     <td>-0.0629</td>  <td>0.0442</td>  <td>-1.4218</td> <td>0.1551</td> <td>-0.1496</td> <td>0.0238</td> \n",
       "</tr>\n",
       "<tr>\n",
       "  <th>alcohol</th>     <td>0.0001</td>   <td>0.0045</td>  <td>0.0271</td>  <td>0.9784</td> <td>-0.0087</td> <td>0.0089</td> \n",
       "</tr>\n",
       "<tr>\n",
       "  <th>age</th>         <td>0.0452</td>   <td>0.0121</td>  <td>3.7285</td>  <td>0.0002</td> <td>0.0215</td>  <td>0.0690</td> \n",
       "</tr>\n",
       "<tr>\n",
       "  <th>famhist_bin</th> <td>0.9254</td>   <td>0.2279</td>  <td>4.0605</td>  <td>0.0000</td> <td>0.4787</td>  <td>1.3720</td> \n",
       "</tr>\n",
       "</table>"
      ],
      "text/plain": [
       "<class 'statsmodels.iolib.summary2.Summary'>\n",
       "\"\"\"\n",
       "                         Results: Logit\n",
       "=================================================================\n",
       "Model:              Logit            Pseudo R-squared: 0.208     \n",
       "Dependent Variable: chd              AIC:              492.1400  \n",
       "Date:               2019-08-10 00:35 BIC:              533.4957  \n",
       "No. Observations:   462              Log-Likelihood:   -236.07   \n",
       "Df Model:           9                LL-Null:          -298.05   \n",
       "Df Residuals:       452              LLR p-value:      2.0548e-22\n",
       "Converged:          1.0000           Scale:            1.0000    \n",
       "No. Iterations:     6.0000                                       \n",
       "------------------------------------------------------------------\n",
       "               Coef.   Std.Err.     z     P>|z|    [0.025   0.975]\n",
       "------------------------------------------------------------------\n",
       "Intercept     -6.1507    1.3083  -4.7015  0.0000  -8.7149  -3.5866\n",
       "sbp            0.0065    0.0057   1.1350  0.2564  -0.0047   0.0177\n",
       "tobacco        0.0794    0.0266   2.9838  0.0028   0.0272   0.1315\n",
       "ldl            0.1739    0.0597   2.9152  0.0036   0.0570   0.2909\n",
       "adiposity      0.0186    0.0293   0.6346  0.5257  -0.0388   0.0760\n",
       "typea          0.0396    0.0123   3.2138  0.0013   0.0154   0.0637\n",
       "obesity       -0.0629    0.0442  -1.4218  0.1551  -0.1496   0.0238\n",
       "alcohol        0.0001    0.0045   0.0271  0.9784  -0.0087   0.0089\n",
       "age            0.0452    0.0121   3.7285  0.0002   0.0215   0.0690\n",
       "famhist_bin    0.9254    0.2279   4.0605  0.0000   0.4787   1.3720\n",
       "=================================================================\n",
       "\n",
       "\"\"\""
      ]
     },
     "execution_count": 17,
     "metadata": {},
     "output_type": "execute_result"
    }
   ],
   "source": [
    "#modelo econometrico\n",
    "m1_logit = smf.logit('chd ~ sbp + tobacco + ldl + adiposity + typea + obesity + alcohol + age + famhist_bin',df).fit()\n",
    "m1_logit.summary2()"
   ]
  },
  {
   "cell_type": "code",
   "execution_count": 18,
   "metadata": {
    "scrolled": true
   },
   "outputs": [
    {
     "name": "stdout",
     "output_type": "stream",
     "text": [
      "Las siguientes variables son estadísticamente significativas: \n",
      "Intercept      0.000003\n",
      "tobacco        0.002847\n",
      "ldl            0.003555\n",
      "typea          0.001310\n",
      "age            0.000193\n",
      "famhist_bin    0.000049\n",
      "dtype: float64\n"
     ]
    }
   ],
   "source": [
    "# Extraccion de las variables cuyos p-values son estadisticamente significativos\n",
    "pvalues = m1_logit.pvalues\n",
    "print ('Las siguientes variables son estadísticamente significativas: ') \n",
    "\n",
    "means_values= pd.Series(pvalues).where(lambda x : x<0.05).dropna() \n",
    "print(means_values)"
   ]
  },
  {
   "cell_type": "code",
   "execution_count": 19,
   "metadata": {},
   "outputs": [
    {
     "name": "stdout",
     "output_type": "stream",
     "text": [
      "El log odds estimado es de  -5.225\n"
     ]
    }
   ],
   "source": [
    "#log odds en variables significativas -variables categoricas\n",
    "\n",
    "# caso evaluación = Indidividuo con antecedentes familiares de enf cardiacas =1 \n",
    "\n",
    "estimate_y = m1_logit.params['Intercept'] + (m1_logit.params['famhist_bin'] * 1)\n",
    "print(\"El log odds estimado es de \", round(estimate_y, 3))"
   ]
  },
  {
   "cell_type": "markdown",
   "metadata": {},
   "source": [
    "Este log odds nos indica que a medida que aumentan el numero de variables el modelo disminuye el impacto de historia familiar en el intercepto de este."
   ]
  },
  {
   "cell_type": "code",
   "execution_count": 20,
   "metadata": {},
   "outputs": [
    {
     "name": "stdout",
     "output_type": "stream",
     "text": [
      "El log odds estimado para  tobacco  es de  -5.862\n",
      "El log odds estimado para  ldl  es de  -5.326\n",
      "El log odds estimado para  typea  es de  -4.048\n",
      "El log odds estimado para  age  es de  -4.214\n"
     ]
    }
   ],
   "source": [
    "#log odds en variables numéricas\n",
    "\n",
    "variables= list(means_values.index)\n",
    "variables.remove('Intercept')\n",
    "variables.remove('famhist_bin')\n",
    "for var in variables:\n",
    "    estimate_y = m1_logit.params['Intercept'] + (m1_logit.params[var] * df[var].mean())\n",
    "    print(\"El log odds estimado para \", var, \" es de \", round(estimate_y, 3))\n",
    "   "
   ]
  },
  {
   "cell_type": "markdown",
   "metadata": {},
   "source": [
    "Los log odds calculados sobre el impacto de las variables promedio  indican que a medida que aumentan el numero de variables, el modelo disminuye el impacto individual. En este caso las variables edad  y personalidad de tipo A son más influyentes que las variables consumo de tabaco y perfil lipidico.\n"
   ]
  },
  {
   "cell_type": "code",
   "execution_count": 21,
   "metadata": {},
   "outputs": [
    {
     "name": "stdout",
     "output_type": "stream",
     "text": [
      "Optimization terminated successfully.\n",
      "         Current function value: 0.514811\n",
      "         Iterations 6\n"
     ]
    },
    {
     "data": {
      "text/html": [
       "<table class=\"simpletable\">\n",
       "<tr>\n",
       "        <td>Model:</td>              <td>Logit</td>      <td>Pseudo R-squared:</td>    <td>0.202</td>  \n",
       "</tr>\n",
       "<tr>\n",
       "  <td>Dependent Variable:</td>        <td>chd</td>             <td>AIC:</td>         <td>487.6856</td> \n",
       "</tr>\n",
       "<tr>\n",
       "         <td>Date:</td>        <td>2019-08-10 00:35</td>       <td>BIC:</td>         <td>512.4990</td> \n",
       "</tr>\n",
       "<tr>\n",
       "   <td>No. Observations:</td>         <td>462</td>        <td>Log-Likelihood:</td>    <td>-237.84</td> \n",
       "</tr>\n",
       "<tr>\n",
       "       <td>Df Model:</td>              <td>5</td>            <td>LL-Null:</td>        <td>-298.05</td> \n",
       "</tr>\n",
       "<tr>\n",
       "     <td>Df Residuals:</td>           <td>456</td>         <td>LLR p-value:</td>    <td>2.5537e-24</td>\n",
       "</tr>\n",
       "<tr>\n",
       "      <td>Converged:</td>           <td>1.0000</td>           <td>Scale:</td>         <td>1.0000</td>  \n",
       "</tr>\n",
       "<tr>\n",
       "    <td>No. Iterations:</td>        <td>6.0000</td>              <td></td>               <td></td>     \n",
       "</tr>\n",
       "</table>\n",
       "<table class=\"simpletable\">\n",
       "<tr>\n",
       "       <td></td>        <th>Coef.</th>  <th>Std.Err.</th>    <th>z</th>     <th>P>|z|</th> <th>[0.025</th>  <th>0.975]</th> \n",
       "</tr>\n",
       "<tr>\n",
       "  <th>Intercept</th>   <td>-6.4464</td>  <td>0.9209</td>  <td>-7.0004</td> <td>0.0000</td> <td>-8.2513</td> <td>-4.6416</td>\n",
       "</tr>\n",
       "<tr>\n",
       "  <th>tobacco</th>     <td>0.0804</td>   <td>0.0259</td>  <td>3.1057</td>  <td>0.0019</td> <td>0.0297</td>  <td>0.1311</td> \n",
       "</tr>\n",
       "<tr>\n",
       "  <th>ldl</th>         <td>0.1620</td>   <td>0.0550</td>  <td>2.9470</td>  <td>0.0032</td> <td>0.0543</td>  <td>0.2697</td> \n",
       "</tr>\n",
       "<tr>\n",
       "  <th>typea</th>       <td>0.0371</td>   <td>0.0122</td>  <td>3.0505</td>  <td>0.0023</td> <td>0.0133</td>  <td>0.0610</td> \n",
       "</tr>\n",
       "<tr>\n",
       "  <th>age</th>         <td>0.0505</td>   <td>0.0102</td>  <td>4.9442</td>  <td>0.0000</td> <td>0.0305</td>  <td>0.0705</td> \n",
       "</tr>\n",
       "<tr>\n",
       "  <th>famhist_bin</th> <td>0.9082</td>   <td>0.2258</td>  <td>4.0228</td>  <td>0.0001</td> <td>0.4657</td>  <td>1.3507</td> \n",
       "</tr>\n",
       "</table>"
      ],
      "text/plain": [
       "<class 'statsmodels.iolib.summary2.Summary'>\n",
       "\"\"\"\n",
       "                         Results: Logit\n",
       "=================================================================\n",
       "Model:              Logit            Pseudo R-squared: 0.202     \n",
       "Dependent Variable: chd              AIC:              487.6856  \n",
       "Date:               2019-08-10 00:35 BIC:              512.4990  \n",
       "No. Observations:   462              Log-Likelihood:   -237.84   \n",
       "Df Model:           5                LL-Null:          -298.05   \n",
       "Df Residuals:       456              LLR p-value:      2.5537e-24\n",
       "Converged:          1.0000           Scale:            1.0000    \n",
       "No. Iterations:     6.0000                                       \n",
       "------------------------------------------------------------------\n",
       "               Coef.   Std.Err.     z     P>|z|    [0.025   0.975]\n",
       "------------------------------------------------------------------\n",
       "Intercept     -6.4464    0.9209  -7.0004  0.0000  -8.2513  -4.6416\n",
       "tobacco        0.0804    0.0259   3.1057  0.0019   0.0297   0.1311\n",
       "ldl            0.1620    0.0550   2.9470  0.0032   0.0543   0.2697\n",
       "typea          0.0371    0.0122   3.0505  0.0023   0.0133   0.0610\n",
       "age            0.0505    0.0102   4.9442  0.0000   0.0305   0.0705\n",
       "famhist_bin    0.9082    0.2258   4.0228  0.0001   0.4657   1.3507\n",
       "=================================================================\n",
       "\n",
       "\"\"\""
      ]
     },
     "execution_count": 21,
     "metadata": {},
     "output_type": "execute_result"
    }
   ],
   "source": [
    "#modelo con variables significativas\n",
    "m2_logit = smf.logit('chd ~ + tobacco + ldl  + typea + age + famhist_bin',df).fit()\n",
    "m2_logit.summary2()"
   ]
  },
  {
   "cell_type": "markdown",
   "metadata": {},
   "source": [
    "### Desafío 4: Estimación de perfiles\n",
    "A partir del modelo depurado, genere las estimaciones en log-odds y posteriormente transfórmelas\n",
    "a probabilidades con inverse_logit . \n",
    "\n",
    "Los perfiles a estimar son los siguientes:\n",
    "* La probabilidad de tener una enfermedad coronaria para un individuo con características similares a la muestra.\n",
    "* La probabilidad de tener una enfemerdad coronaria para un individuo con altos niveles de lipoproteína de baja densidad, manteniendo todas las demás características constantes.\n",
    "* La probabilidad de tener una enfemerdad coronaria para un individuo con bajos niveles de lipoproteína de baja densidad, manteniendo todas las demás características constantes."
   ]
  },
  {
   "cell_type": "markdown",
   "metadata": {},
   "source": [
    "1. La probabilidad de tener una enfermedad coronaria para un individuo con características similares a la muestra es:"
   ]
  },
  {
   "cell_type": "code",
   "execution_count": 22,
   "metadata": {
    "scrolled": false
   },
   "outputs": [
    {
     "name": "stdout",
     "output_type": "stream",
     "text": [
      "Optimization terminated successfully.\n",
      "         Current function value: 0.514811\n",
      "         Iterations 6\n"
     ]
    },
    {
     "data": {
      "text/html": [
       "<table class=\"simpletable\">\n",
       "<tr>\n",
       "        <td>Model:</td>              <td>Logit</td>      <td>Pseudo R-squared:</td>    <td>0.202</td>  \n",
       "</tr>\n",
       "<tr>\n",
       "  <td>Dependent Variable:</td>        <td>chd</td>             <td>AIC:</td>         <td>487.6856</td> \n",
       "</tr>\n",
       "<tr>\n",
       "         <td>Date:</td>        <td>2019-08-10 00:35</td>       <td>BIC:</td>         <td>512.4990</td> \n",
       "</tr>\n",
       "<tr>\n",
       "   <td>No. Observations:</td>         <td>462</td>        <td>Log-Likelihood:</td>    <td>-237.84</td> \n",
       "</tr>\n",
       "<tr>\n",
       "       <td>Df Model:</td>              <td>5</td>            <td>LL-Null:</td>        <td>-298.05</td> \n",
       "</tr>\n",
       "<tr>\n",
       "     <td>Df Residuals:</td>           <td>456</td>         <td>LLR p-value:</td>    <td>2.5537e-24</td>\n",
       "</tr>\n",
       "<tr>\n",
       "      <td>Converged:</td>           <td>1.0000</td>           <td>Scale:</td>         <td>1.0000</td>  \n",
       "</tr>\n",
       "<tr>\n",
       "    <td>No. Iterations:</td>        <td>6.0000</td>              <td></td>               <td></td>     \n",
       "</tr>\n",
       "</table>\n",
       "<table class=\"simpletable\">\n",
       "<tr>\n",
       "       <td></td>        <th>Coef.</th>  <th>Std.Err.</th>    <th>z</th>     <th>P>|z|</th> <th>[0.025</th>  <th>0.975]</th> \n",
       "</tr>\n",
       "<tr>\n",
       "  <th>Intercept</th>   <td>-6.4464</td>  <td>0.9209</td>  <td>-7.0004</td> <td>0.0000</td> <td>-8.2513</td> <td>-4.6416</td>\n",
       "</tr>\n",
       "<tr>\n",
       "  <th>tobacco</th>     <td>0.0804</td>   <td>0.0259</td>  <td>3.1057</td>  <td>0.0019</td> <td>0.0297</td>  <td>0.1311</td> \n",
       "</tr>\n",
       "<tr>\n",
       "  <th>ldl</th>         <td>0.1620</td>   <td>0.0550</td>  <td>2.9470</td>  <td>0.0032</td> <td>0.0543</td>  <td>0.2697</td> \n",
       "</tr>\n",
       "<tr>\n",
       "  <th>typea</th>       <td>0.0371</td>   <td>0.0122</td>  <td>3.0505</td>  <td>0.0023</td> <td>0.0133</td>  <td>0.0610</td> \n",
       "</tr>\n",
       "<tr>\n",
       "  <th>age</th>         <td>0.0505</td>   <td>0.0102</td>  <td>4.9442</td>  <td>0.0000</td> <td>0.0305</td>  <td>0.0705</td> \n",
       "</tr>\n",
       "<tr>\n",
       "  <th>famhist_bin</th> <td>0.9082</td>   <td>0.2258</td>  <td>4.0228</td>  <td>0.0001</td> <td>0.4657</td>  <td>1.3507</td> \n",
       "</tr>\n",
       "</table>"
      ],
      "text/plain": [
       "<class 'statsmodels.iolib.summary2.Summary'>\n",
       "\"\"\"\n",
       "                         Results: Logit\n",
       "=================================================================\n",
       "Model:              Logit            Pseudo R-squared: 0.202     \n",
       "Dependent Variable: chd              AIC:              487.6856  \n",
       "Date:               2019-08-10 00:35 BIC:              512.4990  \n",
       "No. Observations:   462              Log-Likelihood:   -237.84   \n",
       "Df Model:           5                LL-Null:          -298.05   \n",
       "Df Residuals:       456              LLR p-value:      2.5537e-24\n",
       "Converged:          1.0000           Scale:            1.0000    \n",
       "No. Iterations:     6.0000                                       \n",
       "------------------------------------------------------------------\n",
       "               Coef.   Std.Err.     z     P>|z|    [0.025   0.975]\n",
       "------------------------------------------------------------------\n",
       "Intercept     -6.4464    0.9209  -7.0004  0.0000  -8.2513  -4.6416\n",
       "tobacco        0.0804    0.0259   3.1057  0.0019   0.0297   0.1311\n",
       "ldl            0.1620    0.0550   2.9470  0.0032   0.0543   0.2697\n",
       "typea          0.0371    0.0122   3.0505  0.0023   0.0133   0.0610\n",
       "age            0.0505    0.0102   4.9442  0.0000   0.0305   0.0705\n",
       "famhist_bin    0.9082    0.2258   4.0228  0.0001   0.4657   1.3507\n",
       "=================================================================\n",
       "\n",
       "\"\"\""
      ]
     },
     "execution_count": 22,
     "metadata": {},
     "output_type": "execute_result"
    }
   ],
   "source": [
    "#modelo con variables significativas\n",
    "m2_logit = smf.logit('chd ~ + tobacco + ldl  + typea + age + famhist_bin',df).fit()\n",
    "m2_logit.summary2()"
   ]
  },
  {
   "cell_type": "markdown",
   "metadata": {},
   "source": [
    "* La caracteristica mas representativa es no presentar antecedentes familiares, famhist_bin = 0\n",
    "* un individuo representativo corresponde al promedio de la muestra para las variables depuradas"
   ]
  },
  {
   "cell_type": "code",
   "execution_count": 23,
   "metadata": {},
   "outputs": [
    {
     "name": "stdout",
     "output_type": "stream",
     "text": [
      "El log odds estimado es de  -1.25486\n"
     ]
    }
   ],
   "source": [
    "#log odds\n",
    "estimate_y_2 =  m2_logit.params['Intercept'] +  m2_logit.params['famhist_bin'] * 0  + m2_logit.params['tobacco']* df['tobacco'].mean()+\\\n",
    "                 m2_logit.params['ldl'] * df['ldl'].mean() + m2_logit.params['typea'] * df['typea'].mean() + m2_logit.params['age']*df['age'].mean()\n",
    "\n",
    "print(\"El log odds estimado es de \", round(estimate_y_2, 5))\n",
    "   "
   ]
  },
  {
   "cell_type": "code",
   "execution_count": 24,
   "metadata": {},
   "outputs": [
    {
     "data": {
      "text/plain": [
       "4.899367991410447"
      ]
     },
     "execution_count": 24,
     "metadata": {},
     "output_type": "execute_result"
    }
   ],
   "source": [
    "m2_logit.params['Intercept'] +  m2_logit.params['famhist_bin'] * 0  + m2_logit.params['tobacco']* df['tobacco'].mean()\n",
    "+ m2_logit.params['ldl'] * df['ldl'].mean() + m2_logit.params['typea'] * df['typea'].mean() + m2_logit.params['age']*df['age'].mean()"
   ]
  },
  {
   "cell_type": "code",
   "execution_count": 25,
   "metadata": {},
   "outputs": [
    {
     "data": {
      "text/plain": [
       "-1.2548600144988673"
      ]
     },
     "execution_count": 25,
     "metadata": {},
     "output_type": "execute_result"
    }
   ],
   "source": [
    "estimate_y_2"
   ]
  },
  {
   "cell_type": "code",
   "execution_count": 26,
   "metadata": {},
   "outputs": [
    {
     "name": "stdout",
     "output_type": "stream",
     "text": [
      "0.2218599809694638\n"
     ]
    }
   ],
   "source": [
    "print(invlogit(estimate_y_2))"
   ]
  },
  {
   "cell_type": "code",
   "execution_count": 27,
   "metadata": {},
   "outputs": [
    {
     "data": {
      "text/plain": [
       "0.2218599809694638"
      ]
     },
     "execution_count": 27,
     "metadata": {},
     "output_type": "execute_result"
    }
   ],
   "source": [
    "invlogit(m2_logit.params['Intercept'] +  m2_logit.params['famhist_bin'] * 0  +  m2_logit.params['tobacco']* df['tobacco'].mean()\n",
    "+ m2_logit.params['ldl'] * df['ldl'].mean() + m2_logit.params['typea'] * df['typea'].mean() + m2_logit.params['age']*df['age'].mean())"
   ]
  },
  {
   "cell_type": "code",
   "execution_count": 38,
   "metadata": {},
   "outputs": [
    {
     "name": "stdout",
     "output_type": "stream",
     "text": [
      "La probabilidad estimada de tener una enfermedad coronaria para un individuo con características similares a la muestra es  0.2219\n"
     ]
    }
   ],
   "source": [
    "#probabilidad con invlogit\n",
    "prob_1 = invlogit(m2_logit.params['Intercept'] +  m2_logit.params['famhist_bin'] * 0  +  m2_logit.params['tobacco']* df['tobacco'].mean()\n",
    "+ m2_logit.params['ldl'] * df['ldl'].mean() + m2_logit.params['typea'] * df['typea'].mean() + m2_logit.params['age']*df['age'].mean())\n",
    "\n",
    "print(\"La probabilidad estimada de tener una enfermedad coronaria para un individuo con características similares a la muestra es \", round(prob_1,4))"
   ]
  },
  {
   "cell_type": "markdown",
   "metadata": {},
   "source": [
    "2. La probabilidad de tener una enfemerdad coronaria para un individuo con altos niveles de lipoproteína de baja densidad, manteniendo todas las demás características constantes es:"
   ]
  },
  {
   "cell_type": "code",
   "execution_count": 29,
   "metadata": {},
   "outputs": [
    {
     "data": {
      "text/plain": [
       "15.33"
      ]
     },
     "execution_count": 29,
     "metadata": {},
     "output_type": "execute_result"
    }
   ],
   "source": [
    "# Determinar cuales valores del rango de la muestra se corresponden a un individuo con altos niveles de LDL\n",
    "\n",
    "df['ldl'].max() # aplicar parametro max."
   ]
  },
  {
   "cell_type": "code",
   "execution_count": 30,
   "metadata": {},
   "outputs": [
    {
     "name": "stdout",
     "output_type": "stream",
     "text": [
      "El log odds estimado es de  -6.15423\n"
     ]
    }
   ],
   "source": [
    "# Formulacion del modelo con los valores de los individuos representativos, añadiendo max a LDL\n",
    "\n",
    "estimate_y_3 = m2_logit.params['Intercept'] +  m2_logit.params['famhist_bin'] * 0  +  m2_logit.params['tobacco']* df['tobacco'].mean() \n",
    "+ m2_logit.params['ldl']* df['ldl'].max() + m2_logit.params['typea']* df['typea'].mean()+ m2_logit.params['age']* df['age'].mean()\n",
    "print(\"El log odds estimado es de \", round(estimate_y_3, 5))"
   ]
  },
  {
   "cell_type": "code",
   "execution_count": 31,
   "metadata": {},
   "outputs": [],
   "source": [
    "#print(invlogit(estimate_y_3))  "
   ]
  },
  {
   "cell_type": "code",
   "execution_count": 32,
   "metadata": {},
   "outputs": [
    {
     "name": "stdout",
     "output_type": "stream",
     "text": [
      "La probabilidad de tener una enfemerdad coronaria para un individuo con altos niveles de lipoproteína de baja densidad, manteniendo todas las demás características constantes es:  0    0.6132\n",
      "dtype: float64\n"
     ]
    }
   ],
   "source": [
    "#probabilidad con invlogit\n",
    "prob_2 = invlogit(m2_logit.params['Intercept'] +  m2_logit.params['famhist_bin'] * df['famhist_bin'].mode()  +  m2_logit.params['tobacco']* df['tobacco'].mean()\n",
    "+ m2_logit.params['ldl']*df['ldl'].max() + m2_logit.params['typea']*df['typea'].mean()+ m2_logit.params['age']*df['age'].mean())\n",
    "\n",
    "print(\"La probabilidad de tener una enfemerdad coronaria para un individuo con altos niveles de lipoproteína de baja densidad, manteniendo todas las demás características constantes es: \", round(prob_2,4))"
   ]
  },
  {
   "cell_type": "markdown",
   "metadata": {},
   "source": [
    "-La probabilidad de un individuo con altos niveles de LDL y el resto de las variables constantes, de padecer un accidente coronario es aproximadamente  0.6132"
   ]
  },
  {
   "cell_type": "markdown",
   "metadata": {},
   "source": [
    "3. La probabilidad de tener una enfemedad coronaria para un individuo con bajos niveles de lipoproteína de baja densidad, manteniendo todas las demás características constantes es:"
   ]
  },
  {
   "cell_type": "code",
   "execution_count": 33,
   "metadata": {},
   "outputs": [
    {
     "data": {
      "text/plain": [
       "0.98"
      ]
     },
     "execution_count": 33,
     "metadata": {},
     "output_type": "execute_result"
    }
   ],
   "source": [
    "#Determinar cuales valores del rango de la muestra se corresponden a un individuo con bajos niveles de LDL\n",
    "\n",
    "df['ldl'].min() # aplicamos el parametro min."
   ]
  },
  {
   "cell_type": "code",
   "execution_count": 34,
   "metadata": {},
   "outputs": [
    {
     "name": "stdout",
     "output_type": "stream",
     "text": [
      "El log odds estimado es de  0   -6.15423\n",
      "dtype: float64\n"
     ]
    }
   ],
   "source": [
    "# Formulacion del modelo con los valores de los individuos representativos, añadiendo min a LDL\n",
    "\n",
    "estimate_y_4 = m2_logit.params['Intercept'] +  m2_logit.params['famhist_bin'] * df['famhist_bin'].mode()  +  m2_logit.params['tobacco']*df['tobacco'].mean()\n",
    "+ m2_logit.params['ldl'].min() + m2_logit.params['typea']*df['typea'].mean()+ m2_logit.params['age']*df['age'].mean()\n",
    "\n",
    "print(\"El log odds estimado es de \", round(estimate_y_4, 5))"
   ]
  },
  {
   "cell_type": "code",
   "execution_count": 35,
   "metadata": {},
   "outputs": [
    {
     "data": {
      "text/plain": [
       "0.0021199723715011705"
      ]
     },
     "execution_count": 35,
     "metadata": {},
     "output_type": "execute_result"
    }
   ],
   "source": [
    "invlogit(-6.15423)"
   ]
  },
  {
   "cell_type": "code",
   "execution_count": 36,
   "metadata": {},
   "outputs": [
    {
     "name": "stdout",
     "output_type": "stream",
     "text": [
      "La probabilidad de tener una enfemedad coronaria para un individuo con bajos niveles de lipoproteína de baja densidad, manteniendo todas las demás características constantes es:  0    0.1342\n",
      "dtype: float64\n"
     ]
    }
   ],
   "source": [
    "#probabilidad con invlogit\n",
    "\n",
    "prob_3 = invlogit(m2_logit.params['Intercept'] +  m2_logit.params['famhist_bin'] *df['famhist_bin'].mode()  +  m2_logit.params['tobacco']*df['tobacco'].mean() \n",
    "+ m2_logit.params['ldl']*df['ldl'].min() + m2_logit.params['typea']*df['typea'].mean()+ m2_logit.params['age']*df['age'].mean())\n",
    "\n",
    "print(\"La probabilidad de tener una enfemedad coronaria para un individuo con bajos niveles de lipoproteína de baja densidad, manteniendo todas las demás características constantes es: \", round(prob_3,4))"
   ]
  },
  {
   "cell_type": "markdown",
   "metadata": {},
   "source": [
    "-La probabilidad de un individuo  con bajos niveles de LDL y el resto de las variables constantes, de padecer una enfermedad coronaria es 0.1342, es decir, es menor que la probabilidad de un individuo con altos niveles de LDL, los cuales presentan un 0.6132 de probabilidad."
   ]
  },
  {
   "cell_type": "code",
   "execution_count": null,
   "metadata": {},
   "outputs": [],
   "source": []
  }
 ],
 "metadata": {
  "kernelspec": {
   "display_name": "Python 3",
   "language": "python",
   "name": "python3"
  },
  "language_info": {
   "codemirror_mode": {
    "name": "ipython",
    "version": 3
   },
   "file_extension": ".py",
   "mimetype": "text/x-python",
   "name": "python",
   "nbconvert_exporter": "python",
   "pygments_lexer": "ipython3",
   "version": "3.7.3"
  }
 },
 "nbformat": 4,
 "nbformat_minor": 2
}
