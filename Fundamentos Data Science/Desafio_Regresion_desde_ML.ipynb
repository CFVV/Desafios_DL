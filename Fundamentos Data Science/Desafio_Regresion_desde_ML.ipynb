{
 "cells": [
  {
   "cell_type": "markdown",
   "metadata": {},
   "source": [
    "## Desafío - Regresión desde el aprendizaje de maquinas\n",
    "### Camila Vera Villa - miercoles 24 de julio"
   ]
  },
  {
   "cell_type": "markdown",
   "metadata": {},
   "source": [
    "#### Contexto\n",
    "En esta sesión trabajaremos una base de datos sobre los precios de las viviendas en Boston,\n",
    "utilizada en el paper Harrison Jr, D., & Rubinfeld, D. L. (1978). Hedonic housing prices and the\n",
    "demand for clean air. Journal of environmental economics and management, 5(1), 81-102.\n",
    "Nuestro objetivo es desarrollar un modelo predictivo para el valor mediano de las casas mediante el\n",
    "entrenamiento de un modelo de regresión lineal.\n",
    "\n",
    "\n",
    "* crim : Tasa de criminalidad por sector de Boston\n",
    "* zn: proporción de terreno residencial asignado para terrenos baldíos.\n",
    "* indus: proporción de negocios no asociados al comercio por sector.\n",
    "* chas: Dummy. 1 si el sector colinda con el río Charles, 0 de lo contrario.\n",
    "* nox: Concentración de dióxido de carbono\n",
    "* rm: cantidad promedio de habitaciones por casa.\n",
    "* age: proporción de casas construídas antes de 1940\n",
    "* dis: distancia promedio a cinco centros de empleos.\n",
    "* rad: índice de accesibilidad a autopistas.\n",
    "* tax: nivel de impuestos asociados a viviendas.\n",
    "* ptratio: razón alumno:profesor por sector de Boston.\n",
    "* black: proporción de afroamericanos por sector de Boston.\n",
    "* lstat: porcentaje de población de estratos bajos.\n",
    "* medv: valor mediano de las casas"
   ]
  },
  {
   "cell_type": "markdown",
   "metadata": {},
   "source": [
    "### Desafío 1: Prepare el ambiente de trabajo\n",
    "\n",
    "* Importe las librerías básicas para el análisis de datos.\n",
    "* Importe el módulo linear_model , y las funciones mean_squared_error, r2_score y train_test_split.\n",
    "* Importe la base de datos boston.csv y elimine la columna Unnamed: 0.\n",
    "* Obtenga las medidas descriptivas de la base de datos con .describe()."
   ]
  },
  {
   "cell_type": "code",
   "execution_count": 1,
   "metadata": {},
   "outputs": [],
   "source": [
    "import pandas as pd\n",
    "import numpy as np\n",
    "import matplotlib.pyplot as plt\n",
    "import seaborn as sns\n",
    "from scipy import stats\n",
    "import statsmodels.api as sm \n",
    "import statsmodels.formula.api as smf\n",
    "from sklearn import linear_model\n",
    "from sklearn.linear_model import LinearRegression\n",
    "from sklearn.model_selection import train_test_split\n",
    "from sklearn.metrics import mean_squared_error, r2_score"
   ]
  },
  {
   "cell_type": "code",
   "execution_count": 2,
   "metadata": {},
   "outputs": [
    {
     "data": {
      "text/html": [
       "<div>\n",
       "<style scoped>\n",
       "    .dataframe tbody tr th:only-of-type {\n",
       "        vertical-align: middle;\n",
       "    }\n",
       "\n",
       "    .dataframe tbody tr th {\n",
       "        vertical-align: top;\n",
       "    }\n",
       "\n",
       "    .dataframe thead th {\n",
       "        text-align: right;\n",
       "    }\n",
       "</style>\n",
       "<table border=\"1\" class=\"dataframe\">\n",
       "  <thead>\n",
       "    <tr style=\"text-align: right;\">\n",
       "      <th></th>\n",
       "      <th>crim</th>\n",
       "      <th>zn</th>\n",
       "      <th>indus</th>\n",
       "      <th>chas</th>\n",
       "      <th>nox</th>\n",
       "      <th>rm</th>\n",
       "      <th>age</th>\n",
       "      <th>dis</th>\n",
       "      <th>rad</th>\n",
       "      <th>tax</th>\n",
       "      <th>ptratio</th>\n",
       "      <th>black</th>\n",
       "      <th>lstat</th>\n",
       "      <th>medv</th>\n",
       "    </tr>\n",
       "  </thead>\n",
       "  <tbody>\n",
       "    <tr>\n",
       "      <th>0</th>\n",
       "      <td>0.00632</td>\n",
       "      <td>18.0</td>\n",
       "      <td>2.31</td>\n",
       "      <td>0</td>\n",
       "      <td>0.538</td>\n",
       "      <td>6.575</td>\n",
       "      <td>65.2</td>\n",
       "      <td>4.0900</td>\n",
       "      <td>1</td>\n",
       "      <td>296</td>\n",
       "      <td>15.3</td>\n",
       "      <td>396.90</td>\n",
       "      <td>4.98</td>\n",
       "      <td>24.0</td>\n",
       "    </tr>\n",
       "    <tr>\n",
       "      <th>1</th>\n",
       "      <td>0.02731</td>\n",
       "      <td>0.0</td>\n",
       "      <td>7.07</td>\n",
       "      <td>0</td>\n",
       "      <td>0.469</td>\n",
       "      <td>6.421</td>\n",
       "      <td>78.9</td>\n",
       "      <td>4.9671</td>\n",
       "      <td>2</td>\n",
       "      <td>242</td>\n",
       "      <td>17.8</td>\n",
       "      <td>396.90</td>\n",
       "      <td>9.14</td>\n",
       "      <td>21.6</td>\n",
       "    </tr>\n",
       "    <tr>\n",
       "      <th>2</th>\n",
       "      <td>0.02729</td>\n",
       "      <td>0.0</td>\n",
       "      <td>7.07</td>\n",
       "      <td>0</td>\n",
       "      <td>0.469</td>\n",
       "      <td>7.185</td>\n",
       "      <td>61.1</td>\n",
       "      <td>4.9671</td>\n",
       "      <td>2</td>\n",
       "      <td>242</td>\n",
       "      <td>17.8</td>\n",
       "      <td>392.83</td>\n",
       "      <td>4.03</td>\n",
       "      <td>34.7</td>\n",
       "    </tr>\n",
       "    <tr>\n",
       "      <th>3</th>\n",
       "      <td>0.03237</td>\n",
       "      <td>0.0</td>\n",
       "      <td>2.18</td>\n",
       "      <td>0</td>\n",
       "      <td>0.458</td>\n",
       "      <td>6.998</td>\n",
       "      <td>45.8</td>\n",
       "      <td>6.0622</td>\n",
       "      <td>3</td>\n",
       "      <td>222</td>\n",
       "      <td>18.7</td>\n",
       "      <td>394.63</td>\n",
       "      <td>2.94</td>\n",
       "      <td>33.4</td>\n",
       "    </tr>\n",
       "    <tr>\n",
       "      <th>4</th>\n",
       "      <td>0.06905</td>\n",
       "      <td>0.0</td>\n",
       "      <td>2.18</td>\n",
       "      <td>0</td>\n",
       "      <td>0.458</td>\n",
       "      <td>7.147</td>\n",
       "      <td>54.2</td>\n",
       "      <td>6.0622</td>\n",
       "      <td>3</td>\n",
       "      <td>222</td>\n",
       "      <td>18.7</td>\n",
       "      <td>396.90</td>\n",
       "      <td>5.33</td>\n",
       "      <td>36.2</td>\n",
       "    </tr>\n",
       "  </tbody>\n",
       "</table>\n",
       "</div>"
      ],
      "text/plain": [
       "      crim    zn  indus  chas    nox     rm   age     dis  rad  tax  ptratio  \\\n",
       "0  0.00632  18.0   2.31     0  0.538  6.575  65.2  4.0900    1  296     15.3   \n",
       "1  0.02731   0.0   7.07     0  0.469  6.421  78.9  4.9671    2  242     17.8   \n",
       "2  0.02729   0.0   7.07     0  0.469  7.185  61.1  4.9671    2  242     17.8   \n",
       "3  0.03237   0.0   2.18     0  0.458  6.998  45.8  6.0622    3  222     18.7   \n",
       "4  0.06905   0.0   2.18     0  0.458  7.147  54.2  6.0622    3  222     18.7   \n",
       "\n",
       "    black  lstat  medv  \n",
       "0  396.90   4.98  24.0  \n",
       "1  396.90   9.14  21.6  \n",
       "2  392.83   4.03  34.7  \n",
       "3  394.63   2.94  33.4  \n",
       "4  396.90   5.33  36.2  "
      ]
     },
     "execution_count": 2,
     "metadata": {},
     "output_type": "execute_result"
    }
   ],
   "source": [
    "# Eliminacion de la primera columna\n",
    "df = pd.read_csv('boston.csv').drop('Unnamed: 0', axis=1) \n",
    "df.head()"
   ]
  },
  {
   "cell_type": "code",
   "execution_count": 3,
   "metadata": {},
   "outputs": [
    {
     "data": {
      "text/html": [
       "<div>\n",
       "<style scoped>\n",
       "    .dataframe tbody tr th:only-of-type {\n",
       "        vertical-align: middle;\n",
       "    }\n",
       "\n",
       "    .dataframe tbody tr th {\n",
       "        vertical-align: top;\n",
       "    }\n",
       "\n",
       "    .dataframe thead th {\n",
       "        text-align: right;\n",
       "    }\n",
       "</style>\n",
       "<table border=\"1\" class=\"dataframe\">\n",
       "  <thead>\n",
       "    <tr style=\"text-align: right;\">\n",
       "      <th></th>\n",
       "      <th>crim</th>\n",
       "      <th>zn</th>\n",
       "      <th>indus</th>\n",
       "      <th>chas</th>\n",
       "      <th>nox</th>\n",
       "      <th>rm</th>\n",
       "      <th>age</th>\n",
       "      <th>dis</th>\n",
       "      <th>rad</th>\n",
       "      <th>tax</th>\n",
       "      <th>ptratio</th>\n",
       "      <th>black</th>\n",
       "      <th>lstat</th>\n",
       "      <th>medv</th>\n",
       "    </tr>\n",
       "  </thead>\n",
       "  <tbody>\n",
       "    <tr>\n",
       "      <th>count</th>\n",
       "      <td>506.000000</td>\n",
       "      <td>506.000000</td>\n",
       "      <td>506.000000</td>\n",
       "      <td>506.000000</td>\n",
       "      <td>506.000000</td>\n",
       "      <td>506.000000</td>\n",
       "      <td>506.000000</td>\n",
       "      <td>506.000000</td>\n",
       "      <td>506.000000</td>\n",
       "      <td>506.000000</td>\n",
       "      <td>506.000000</td>\n",
       "      <td>506.000000</td>\n",
       "      <td>506.000000</td>\n",
       "      <td>506.000000</td>\n",
       "    </tr>\n",
       "    <tr>\n",
       "      <th>mean</th>\n",
       "      <td>3.613524</td>\n",
       "      <td>11.363636</td>\n",
       "      <td>11.136779</td>\n",
       "      <td>0.069170</td>\n",
       "      <td>0.554695</td>\n",
       "      <td>6.284634</td>\n",
       "      <td>68.574901</td>\n",
       "      <td>3.795043</td>\n",
       "      <td>9.549407</td>\n",
       "      <td>408.237154</td>\n",
       "      <td>18.455534</td>\n",
       "      <td>356.674032</td>\n",
       "      <td>12.653063</td>\n",
       "      <td>22.532806</td>\n",
       "    </tr>\n",
       "    <tr>\n",
       "      <th>std</th>\n",
       "      <td>8.601545</td>\n",
       "      <td>23.322453</td>\n",
       "      <td>6.860353</td>\n",
       "      <td>0.253994</td>\n",
       "      <td>0.115878</td>\n",
       "      <td>0.702617</td>\n",
       "      <td>28.148861</td>\n",
       "      <td>2.105710</td>\n",
       "      <td>8.707259</td>\n",
       "      <td>168.537116</td>\n",
       "      <td>2.164946</td>\n",
       "      <td>91.294864</td>\n",
       "      <td>7.141062</td>\n",
       "      <td>9.197104</td>\n",
       "    </tr>\n",
       "    <tr>\n",
       "      <th>min</th>\n",
       "      <td>0.006320</td>\n",
       "      <td>0.000000</td>\n",
       "      <td>0.460000</td>\n",
       "      <td>0.000000</td>\n",
       "      <td>0.385000</td>\n",
       "      <td>3.561000</td>\n",
       "      <td>2.900000</td>\n",
       "      <td>1.129600</td>\n",
       "      <td>1.000000</td>\n",
       "      <td>187.000000</td>\n",
       "      <td>12.600000</td>\n",
       "      <td>0.320000</td>\n",
       "      <td>1.730000</td>\n",
       "      <td>5.000000</td>\n",
       "    </tr>\n",
       "    <tr>\n",
       "      <th>25%</th>\n",
       "      <td>0.082045</td>\n",
       "      <td>0.000000</td>\n",
       "      <td>5.190000</td>\n",
       "      <td>0.000000</td>\n",
       "      <td>0.449000</td>\n",
       "      <td>5.885500</td>\n",
       "      <td>45.025000</td>\n",
       "      <td>2.100175</td>\n",
       "      <td>4.000000</td>\n",
       "      <td>279.000000</td>\n",
       "      <td>17.400000</td>\n",
       "      <td>375.377500</td>\n",
       "      <td>6.950000</td>\n",
       "      <td>17.025000</td>\n",
       "    </tr>\n",
       "    <tr>\n",
       "      <th>50%</th>\n",
       "      <td>0.256510</td>\n",
       "      <td>0.000000</td>\n",
       "      <td>9.690000</td>\n",
       "      <td>0.000000</td>\n",
       "      <td>0.538000</td>\n",
       "      <td>6.208500</td>\n",
       "      <td>77.500000</td>\n",
       "      <td>3.207450</td>\n",
       "      <td>5.000000</td>\n",
       "      <td>330.000000</td>\n",
       "      <td>19.050000</td>\n",
       "      <td>391.440000</td>\n",
       "      <td>11.360000</td>\n",
       "      <td>21.200000</td>\n",
       "    </tr>\n",
       "    <tr>\n",
       "      <th>75%</th>\n",
       "      <td>3.677082</td>\n",
       "      <td>12.500000</td>\n",
       "      <td>18.100000</td>\n",
       "      <td>0.000000</td>\n",
       "      <td>0.624000</td>\n",
       "      <td>6.623500</td>\n",
       "      <td>94.075000</td>\n",
       "      <td>5.188425</td>\n",
       "      <td>24.000000</td>\n",
       "      <td>666.000000</td>\n",
       "      <td>20.200000</td>\n",
       "      <td>396.225000</td>\n",
       "      <td>16.955000</td>\n",
       "      <td>25.000000</td>\n",
       "    </tr>\n",
       "    <tr>\n",
       "      <th>max</th>\n",
       "      <td>88.976200</td>\n",
       "      <td>100.000000</td>\n",
       "      <td>27.740000</td>\n",
       "      <td>1.000000</td>\n",
       "      <td>0.871000</td>\n",
       "      <td>8.780000</td>\n",
       "      <td>100.000000</td>\n",
       "      <td>12.126500</td>\n",
       "      <td>24.000000</td>\n",
       "      <td>711.000000</td>\n",
       "      <td>22.000000</td>\n",
       "      <td>396.900000</td>\n",
       "      <td>37.970000</td>\n",
       "      <td>50.000000</td>\n",
       "    </tr>\n",
       "  </tbody>\n",
       "</table>\n",
       "</div>"
      ],
      "text/plain": [
       "             crim          zn       indus        chas         nox          rm  \\\n",
       "count  506.000000  506.000000  506.000000  506.000000  506.000000  506.000000   \n",
       "mean     3.613524   11.363636   11.136779    0.069170    0.554695    6.284634   \n",
       "std      8.601545   23.322453    6.860353    0.253994    0.115878    0.702617   \n",
       "min      0.006320    0.000000    0.460000    0.000000    0.385000    3.561000   \n",
       "25%      0.082045    0.000000    5.190000    0.000000    0.449000    5.885500   \n",
       "50%      0.256510    0.000000    9.690000    0.000000    0.538000    6.208500   \n",
       "75%      3.677082   12.500000   18.100000    0.000000    0.624000    6.623500   \n",
       "max     88.976200  100.000000   27.740000    1.000000    0.871000    8.780000   \n",
       "\n",
       "              age         dis         rad         tax     ptratio       black  \\\n",
       "count  506.000000  506.000000  506.000000  506.000000  506.000000  506.000000   \n",
       "mean    68.574901    3.795043    9.549407  408.237154   18.455534  356.674032   \n",
       "std     28.148861    2.105710    8.707259  168.537116    2.164946   91.294864   \n",
       "min      2.900000    1.129600    1.000000  187.000000   12.600000    0.320000   \n",
       "25%     45.025000    2.100175    4.000000  279.000000   17.400000  375.377500   \n",
       "50%     77.500000    3.207450    5.000000  330.000000   19.050000  391.440000   \n",
       "75%     94.075000    5.188425   24.000000  666.000000   20.200000  396.225000   \n",
       "max    100.000000   12.126500   24.000000  711.000000   22.000000  396.900000   \n",
       "\n",
       "            lstat        medv  \n",
       "count  506.000000  506.000000  \n",
       "mean    12.653063   22.532806  \n",
       "std      7.141062    9.197104  \n",
       "min      1.730000    5.000000  \n",
       "25%      6.950000   17.025000  \n",
       "50%     11.360000   21.200000  \n",
       "75%     16.955000   25.000000  \n",
       "max     37.970000   50.000000  "
      ]
     },
     "execution_count": 3,
     "metadata": {},
     "output_type": "execute_result"
    }
   ],
   "source": [
    "#Medidas descriptivas del df\n",
    "df.describe() "
   ]
  },
  {
   "cell_type": "markdown",
   "metadata": {},
   "source": [
    "### Desafío 2: División de la muestra\n",
    "\n",
    "* Genere conjuntos de entrenamiento y validación con train_test_split.\n",
    "* Genere una segmentación del 33% para las muestras de validación.\n",
    "* Incluya una semilla pseudoaleatoria"
   ]
  },
  {
   "cell_type": "code",
   "execution_count": 4,
   "metadata": {},
   "outputs": [],
   "source": [
    "# seed = 17955"
   ]
  },
  {
   "cell_type": "code",
   "execution_count": 5,
   "metadata": {},
   "outputs": [],
   "source": [
    "#generacion de matriz de atributos y vector objetivo -> medv: valor mediano de las casas\n",
    "\n",
    "mat_atrib = df.drop('medv', axis = 1) #matriz que excluya vector objetivo\n",
    "y_vector = df['medv']\n"
   ]
  },
  {
   "cell_type": "code",
   "execution_count": 6,
   "metadata": {},
   "outputs": [],
   "source": [
    "  x_train, x_test, y_train, y_test = train_test_split(mat_atrib, y_vector, \n",
    "                                                      test_size = 0.33,random_state = 17955)"
   ]
  },
  {
   "cell_type": "code",
   "execution_count": null,
   "metadata": {},
   "outputs": [],
   "source": []
  },
  {
   "cell_type": "markdown",
   "metadata": {},
   "source": [
    "### Desafío 3: Generación de modelos\n",
    "Ahora implementaremos dos versiones del modelo lineal:\n",
    "* Con intercepto y atributos normalizados.\n",
    "* Sin intercepto y atributos no normalizados.\n",
    "* Cada versión debe generarse en un nuevo objeto inicializado.\n",
    "* Posteriormente se deben entrenar los modelos especificando la matriz y vector de entrenamiento.\n",
    "* Con los modelos entrenados, genere una predicción con su matriz de validación."
   ]
  },
  {
   "cell_type": "code",
   "execution_count": 7,
   "metadata": {},
   "outputs": [],
   "source": [
    "#generacion de 2 versiones del modelo lineal en un nuevo objeto\n",
    "modelo1 = linear_model.LinearRegression(fit_intercept= True, normalize = True)\n",
    "modelo2 = linear_model.LinearRegression(fit_intercept= False, normalize = False)"
   ]
  },
  {
   "cell_type": "code",
   "execution_count": 8,
   "metadata": {},
   "outputs": [
    {
     "data": {
      "text/plain": [
       "LinearRegression(copy_X=True, fit_intercept=True, n_jobs=None, normalize=True)"
      ]
     },
     "execution_count": 8,
     "metadata": {},
     "output_type": "execute_result"
    }
   ],
   "source": [
    "#entrenar modelos\n",
    "modelo1.fit(x_train, y_train)"
   ]
  },
  {
   "cell_type": "code",
   "execution_count": 9,
   "metadata": {},
   "outputs": [
    {
     "data": {
      "text/plain": [
       "LinearRegression(copy_X=True, fit_intercept=False, n_jobs=None,\n",
       "         normalize=False)"
      ]
     },
     "execution_count": 9,
     "metadata": {},
     "output_type": "execute_result"
    }
   ],
   "source": [
    "modelo2.fit(x_train, y_train)"
   ]
  },
  {
   "cell_type": "code",
   "execution_count": 10,
   "metadata": {},
   "outputs": [
    {
     "data": {
      "text/plain": [
       "(167, 13)"
      ]
     },
     "execution_count": 10,
     "metadata": {},
     "output_type": "execute_result"
    }
   ],
   "source": [
    "x_test.shape"
   ]
  },
  {
   "cell_type": "code",
   "execution_count": 11,
   "metadata": {},
   "outputs": [
    {
     "data": {
      "text/plain": [
       "167"
      ]
     },
     "execution_count": 11,
     "metadata": {},
     "output_type": "execute_result"
    }
   ],
   "source": [
    "#prediccion del modelo, se guarda un y nuevo para compararlo con el y real\n",
    "predict1 = modelo1.predict(x_test)  \n",
    "len(predict1)"
   ]
  },
  {
   "cell_type": "code",
   "execution_count": 12,
   "metadata": {},
   "outputs": [],
   "source": [
    "#prediccion del modelo\n",
    "predict2 = modelo2.predict(x_test)"
   ]
  },
  {
   "cell_type": "markdown",
   "metadata": {},
   "source": [
    "### Desafío 4: Obtención de métricas\n",
    "* Ahora generemos una función llamada report_scores que ingrese como argumentos el vector de datos predichos y el vector de datos por validar.\n",
    "\n",
    "* La función debe imprimir las métricas del Error Cuadrático Promedio y R2. \n",
    "\n",
    "* Reporte las métricas para ambos modelos. En base a ello, seleccione el mejor modelo."
   ]
  },
  {
   "cell_type": "code",
   "execution_count": 13,
   "metadata": {},
   "outputs": [],
   "source": [
    "def report_scores(vector_datos_predichos, vector_datos_porvalidar):\n",
    "    '''Def: Función que genere reportes de un modelo sobre un conjunto de datos predichos y de datos por validar\n",
    "    Input: 2 vectores que contienen los datos predichos y los datos por validar\n",
    "    Output: la función imprime las metricas del Error Cuadrático Promedio(MSE) y R2.'''\n",
    "\n",
    "    mse = mean_squared_error(vector_datos_predichos,vector_datos_porvalidar).round(3)\n",
    "    r2 = r2_score(vector_datos_predichos,vector_datos_porvalidar).round(3)\n",
    "    \n",
    "    print('El MSE es:  {}'.format(mse))\n",
    "    print('EL R2 es: {}'.format(r2))\n"
   ]
  },
  {
   "cell_type": "code",
   "execution_count": 14,
   "metadata": {},
   "outputs": [
    {
     "name": "stdout",
     "output_type": "stream",
     "text": [
      "El MSE es:  20.718\n",
      "EL R2 es: 0.766\n"
     ]
    }
   ],
   "source": [
    "# REPORTE DE METRICAS MODELO 1\n",
    "report_scores(y_test, predict1)\n"
   ]
  },
  {
   "cell_type": "code",
   "execution_count": 15,
   "metadata": {},
   "outputs": [
    {
     "name": "stdout",
     "output_type": "stream",
     "text": [
      "El MSE es:  21.241\n",
      "EL R2 es: 0.76\n"
     ]
    }
   ],
   "source": [
    "# REPORTE DE METRICAS MODELO 2\n",
    "report_scores(y_test,predict2)"
   ]
  },
  {
   "cell_type": "markdown",
   "metadata": {},
   "source": [
    "El mejor modelo corresponde al modelo 1, ya que el Promedio de Error Cuadratico (20.7183) es menor que el del modelo 2 (21.2408). A pesar de que los R2 favorecen mas al modelo 2, sin emavrgo de manera leve."
   ]
  },
  {
   "cell_type": "markdown",
   "metadata": {},
   "source": [
    "### Desafío 5: Refactorización del modelo\n",
    "* Genere una función llamada fetch_features que ingrese como argumentos la base de datos (df) y el nombre del vector objetivo. El nombre del vector debe ser medv por defecto\n",
    "* La función debe retornar una lista con las correlaciones entre cada atributo y el vector objetivo y su nombre.\n",
    "* Reporte brevemente cuales los 6 atributos con una mayor correlación con medv"
   ]
  },
  {
   "cell_type": "code",
   "execution_count": 16,
   "metadata": {},
   "outputs": [],
   "source": [
    "def fetch_features(df, vector_objetivo = 'medv'):\n",
    "    '''Def: Función que permite obtener las correlaciones de Pearson del vector ingresado en comparación al resto del dataframe\n",
    "    Input:dataframe de origen y vector_objetivo='medv, para este caso por defecto es el valor mediano de las propiedades\n",
    "    Outpout: retorna una lista con con las correlaciones entre cada atributo y el vector objetivo y su nombre.'''\n",
    "     \n",
    "    #generacion de arrays vacios para guardar los valores\n",
    "        \n",
    "    columns = df.columns   #columnas de las base de datos\n",
    "    nombre_atrib = []      #nombre de la variable\n",
    "    pearson_r = []         #correlacion de Pearson\n",
    "    abs_pearson_r = []     #valor absoluto de la correlacion\n",
    "    \n",
    "    #loop para cada columna en el array de columnas\n",
    "    \n",
    "    for col in columns:\n",
    "        if col != vector_objetivo:    #si la columna no es la dependiente\n",
    "            nombre_atrib.append(col) # adjuntar nombre de la variable en nombre_atrib\n",
    "            pearson_r.append(df[col].corr(df[vector_objetivo])) #adjuntar la correlacion de pearson\n",
    "            abs_pearson_r.append(abs(df[col].corr(df[vector_objetivo])))\n",
    "            \n",
    "    #transformar array en df\n",
    "    \n",
    "    caracteristicas = pd.DataFrame({\n",
    "        'atributo': nombre_atrib,\n",
    "        'correlacion': pearson_r,\n",
    "        'valor_abs_pearson': abs_pearson_r})\n",
    "    \n",
    "    #generacion del index con los nombres de las variables\n",
    "    caracteristicas = caracteristicas.set_index('atributo')\n",
    "        \n",
    "    #orden de los valores de forma descendiente\n",
    "    return caracteristicas.sort_values(by=['valor_abs_pearson'], ascending = False)        \n",
    "          "
   ]
  },
  {
   "cell_type": "code",
   "execution_count": 17,
   "metadata": {
    "scrolled": true
   },
   "outputs": [
    {
     "data": {
      "text/html": [
       "<div>\n",
       "<style scoped>\n",
       "    .dataframe tbody tr th:only-of-type {\n",
       "        vertical-align: middle;\n",
       "    }\n",
       "\n",
       "    .dataframe tbody tr th {\n",
       "        vertical-align: top;\n",
       "    }\n",
       "\n",
       "    .dataframe thead th {\n",
       "        text-align: right;\n",
       "    }\n",
       "</style>\n",
       "<table border=\"1\" class=\"dataframe\">\n",
       "  <thead>\n",
       "    <tr style=\"text-align: right;\">\n",
       "      <th></th>\n",
       "      <th>correlacion</th>\n",
       "      <th>valor_abs_pearson</th>\n",
       "    </tr>\n",
       "    <tr>\n",
       "      <th>atributo</th>\n",
       "      <th></th>\n",
       "      <th></th>\n",
       "    </tr>\n",
       "  </thead>\n",
       "  <tbody>\n",
       "    <tr>\n",
       "      <th>lstat</th>\n",
       "      <td>-0.737663</td>\n",
       "      <td>0.737663</td>\n",
       "    </tr>\n",
       "    <tr>\n",
       "      <th>rm</th>\n",
       "      <td>0.695360</td>\n",
       "      <td>0.695360</td>\n",
       "    </tr>\n",
       "    <tr>\n",
       "      <th>ptratio</th>\n",
       "      <td>-0.507787</td>\n",
       "      <td>0.507787</td>\n",
       "    </tr>\n",
       "    <tr>\n",
       "      <th>indus</th>\n",
       "      <td>-0.483725</td>\n",
       "      <td>0.483725</td>\n",
       "    </tr>\n",
       "    <tr>\n",
       "      <th>tax</th>\n",
       "      <td>-0.468536</td>\n",
       "      <td>0.468536</td>\n",
       "    </tr>\n",
       "    <tr>\n",
       "      <th>nox</th>\n",
       "      <td>-0.427321</td>\n",
       "      <td>0.427321</td>\n",
       "    </tr>\n",
       "    <tr>\n",
       "      <th>crim</th>\n",
       "      <td>-0.388305</td>\n",
       "      <td>0.388305</td>\n",
       "    </tr>\n",
       "    <tr>\n",
       "      <th>rad</th>\n",
       "      <td>-0.381626</td>\n",
       "      <td>0.381626</td>\n",
       "    </tr>\n",
       "    <tr>\n",
       "      <th>age</th>\n",
       "      <td>-0.376955</td>\n",
       "      <td>0.376955</td>\n",
       "    </tr>\n",
       "    <tr>\n",
       "      <th>zn</th>\n",
       "      <td>0.360445</td>\n",
       "      <td>0.360445</td>\n",
       "    </tr>\n",
       "    <tr>\n",
       "      <th>black</th>\n",
       "      <td>0.333461</td>\n",
       "      <td>0.333461</td>\n",
       "    </tr>\n",
       "    <tr>\n",
       "      <th>dis</th>\n",
       "      <td>0.249929</td>\n",
       "      <td>0.249929</td>\n",
       "    </tr>\n",
       "    <tr>\n",
       "      <th>chas</th>\n",
       "      <td>0.175260</td>\n",
       "      <td>0.175260</td>\n",
       "    </tr>\n",
       "  </tbody>\n",
       "</table>\n",
       "</div>"
      ],
      "text/plain": [
       "          correlacion  valor_abs_pearson\n",
       "atributo                                \n",
       "lstat       -0.737663           0.737663\n",
       "rm           0.695360           0.695360\n",
       "ptratio     -0.507787           0.507787\n",
       "indus       -0.483725           0.483725\n",
       "tax         -0.468536           0.468536\n",
       "nox         -0.427321           0.427321\n",
       "crim        -0.388305           0.388305\n",
       "rad         -0.381626           0.381626\n",
       "age         -0.376955           0.376955\n",
       "zn           0.360445           0.360445\n",
       "black        0.333461           0.333461\n",
       "dis          0.249929           0.249929\n",
       "chas         0.175260           0.175260"
      ]
     },
     "execution_count": 17,
     "metadata": {},
     "output_type": "execute_result"
    }
   ],
   "source": [
    "fetch_features(df)"
   ]
  },
  {
   "cell_type": "markdown",
   "metadata": {},
   "source": [
    "  * Los 6 atributos con una mayor correlación con medv, son:\n",
    "1. nox\n",
    "2. tax\n",
    "3. indus\n",
    "4. ptratio\n",
    "5. rm\n",
    "6. istat"
   ]
  },
  {
   "cell_type": "markdown",
   "metadata": {},
   "source": [
    "### Desafío 6: Refactorización del modelo predictivo\n",
    "* Genere otros conjuntos de entrenamiento y validación en base a una matriz con los 6 atributos identificados y el vector objetivo.\n",
    "* Entrene un modelo en base al mejor desempeño.\n",
    "* Reporte las métricas para el nuevo modelo."
   ]
  },
  {
   "cell_type": "code",
   "execution_count": 18,
   "metadata": {},
   "outputs": [],
   "source": [
    "#generacion de matriz de atributos y vector objetivo -> medv: valor mediano de las casas\n",
    "\n",
    "x_matriz = df.loc[:,['lstat', 'rm', 'ptratio', 'indus', 'tax', 'nox']] #matriz con 6 atributos\n",
    "y_vector_obj = df['medv'] # vector objetivo\n"
   ]
  },
  {
   "cell_type": "code",
   "execution_count": 19,
   "metadata": {},
   "outputs": [],
   "source": [
    "#generacion de conjuntos de entrenamiento\n",
    "    \n",
    "x_train_2, x_test_2, y_train_2, y_test_2 = train_test_split(x_matriz, y_vector_obj, \n",
    "                                                      test_size = 0.33,random_state = 17955)"
   ]
  },
  {
   "cell_type": "code",
   "execution_count": 20,
   "metadata": {},
   "outputs": [
    {
     "data": {
      "text/plain": [
       "LinearRegression(copy_X=True, fit_intercept=True, n_jobs=None, normalize=True)"
      ]
     },
     "execution_count": 20,
     "metadata": {},
     "output_type": "execute_result"
    }
   ],
   "source": [
    "#generacion del modelo lineal con los 6 atributos anteriores y vector objetivo: medv\n",
    "\n",
    "modelo3 = linear_model.LinearRegression(fit_intercept= True, normalize = True)\n",
    "\n",
    "#entrenar modelos\n",
    "\n",
    "modelo3.fit(x_train_2,y_train_2)"
   ]
  },
  {
   "cell_type": "code",
   "execution_count": 21,
   "metadata": {},
   "outputs": [
    {
     "name": "stdout",
     "output_type": "stream",
     "text": [
      "LISTADO DE COEFICIENTES E INTERCEPTO DEL MODELO 3\n",
      "\n",
      "\n",
      "La lista de pendientes es:  Index(['lstat', 'rm', 'ptratio', 'indus', 'tax', 'nox'], dtype='object')\n",
      "\n",
      "\n",
      "Valores de los coeficientes de las pendientes:  [-0.57921803  3.68977199 -0.89235266  0.10861109 -0.0045254  -2.30151821]\n",
      "\n",
      "\n",
      "El intercepto del modelo es:  24.96037487368618\n"
     ]
    }
   ],
   "source": [
    "#metricas modelo 3 y listado de coeficientes e intercepto\n",
    "\n",
    "print('LISTADO DE COEFICIENTES E INTERCEPTO DEL MODELO 3')\n",
    "print('\\n')\n",
    "print('La lista de pendientes es: ', x_matriz.columns)\n",
    "print('\\n')\n",
    "print('Valores de los coeficientes de las pendientes: ', modelo3.coef_)\n",
    "print('\\n')\n",
    "\n",
    "print('El intercepto del modelo es: ', modelo3.intercept_)\n"
   ]
  },
  {
   "cell_type": "code",
   "execution_count": 22,
   "metadata": {},
   "outputs": [
    {
     "name": "stdout",
     "output_type": "stream",
     "text": [
      "La cantidad de predicciones realizadas para el modelo 3 son:  167\n",
      "\n",
      "\n",
      "Las predicciones son:  [16.28 13.79 18.34 32.7  21.32 22.17 21.85 14.41  4.2  23.69 22.43 32.53\n",
      " 22.87 30.3  23.2  19.9  37.58 29.57 36.93 25.41 18.98 36.88 27.64 26.52\n",
      " 24.31 27.38 22.76 16.71 24.63 31.03 17.15 25.48 15.57 14.34 21.28  5.9\n",
      " 18.04 19.31 28.21 27.57 12.58 19.71 27.74 19.53 14.27 16.06 24.56 27.1\n",
      " 21.74 20.12 34.47 16.54 18.43 26.25 28.92 35.81 26.26 17.3  32.13 26.03\n",
      " 28.61 22.01 19.93 16.78 23.57 17.57 33.65 30.12 24.46 17.05 11.9  20.02\n",
      " 18.75 14.54 23.22 25.84 39.73 33.08 16.66 20.98 20.21 25.85  9.62 22.39\n",
      " 33.79 30.95 33.57 18.   25.64 17.01 23.7  23.25 27.53 34.87 26.08 35.41\n",
      " 32.39 27.22 21.54 15.4  21.38 22.94 24.11 26.93  2.31 34.65 27.97 18.25\n",
      " 36.49 21.61 23.67 11.95 31.85 22.73 10.38 34.49 24.88 17.87 22.35 17.44\n",
      " 20.1  21.83 27.58 21.89 22.06 22.32 22.28 15.92 29.73 11.69 28.04 29.37\n",
      " 15.41 16.51 27.6  19.45 31.72 17.08 22.16 11.24 31.96 27.73 27.24 29.76\n",
      " 38.14 19.08 12.87 14.36 38.67 15.14 24.62 27.11 23.94 24.99 21.02 24.14\n",
      " 20.12 18.53 19.09 21.75 20.02 27.45 18.96 16.49 28.75 25.35 24.48]\n"
     ]
    }
   ],
   "source": [
    "#prediccion del modelo\n",
    "predict3 = modelo3.predict(x_test_2)\n",
    "print('La cantidad de predicciones realizadas para el modelo 3 son: ', len(predict3))\n",
    "print('\\n')\n",
    "print('Las predicciones son: ', predict3.round(2))"
   ]
  },
  {
   "cell_type": "code",
   "execution_count": 23,
   "metadata": {},
   "outputs": [
    {
     "name": "stdout",
     "output_type": "stream",
     "text": [
      "El MSE es:  24.395\n",
      "EL R2 es: 0.724\n"
     ]
    }
   ],
   "source": [
    "report_scores(y_test_2, predict3)"
   ]
  },
  {
   "cell_type": "markdown",
   "metadata": {},
   "source": [
    "### Desafío 7: Predicción de casos\n",
    "A continuación se generaron dos arrays que representan el peor escenario posible:\n",
    "\n",
    "( worst_neighbor ) y el mejor escenario posible ( best_neighbor ).\n",
    "\n",
    "* Ingrese los arrays en el modelo entrenado y reporte cuál sería el valor esperado dada las condiciones\n",
    "\n",
    "    **worst_neighbor = np.array([37.9, 12.6, 3.5, 27.7, 187, 0.87]).reshape(1, -1)**\n",
    "\n",
    "    **best_neighbor = np.array([1.73, 22, 8.7, 0.46, 711, 0.38]).reshape(1, -1)**"
   ]
  },
  {
   "cell_type": "code",
   "execution_count": 24,
   "metadata": {},
   "outputs": [
    {
     "name": "stdout",
     "output_type": "stream",
     "text": [
      "El valor esperado de las propiedades del peor vecindario es:  46.536\n"
     ]
    }
   ],
   "source": [
    "#peor vecindario\n",
    "worst_neighbor = modelo3.predict(np.array([37.9, 12.6, 3.5, 27.7, 187, 0.87]).reshape(1, -1))\n",
    "print('El valor esperado de las propiedades del peor vecindario es: ',worst_neighbor[0].round(3))"
   ]
  },
  {
   "cell_type": "code",
   "execution_count": 25,
   "metadata": {},
   "outputs": [
    {
     "name": "stdout",
     "output_type": "stream",
     "text": [
      "El valor esperado de las propiedades del mejor vecindaro:  93.328\n"
     ]
    }
   ],
   "source": [
    "#mejor vecindario\n",
    "best_neighbor = modelo3.predict(np.array([1.73, 22, 8.7, 0.46, 711, 0.38]).reshape(1, -1))\n",
    "print('El valor esperado de las propiedades del mejor vecindaro: ', best_neighbor[0].round(3))"
   ]
  },
  {
   "cell_type": "markdown",
   "metadata": {},
   "source": [
    "  * Los valores representan a los 6 atributos con una mayor correlación con medv:\n",
    "1. nox\n",
    "2. tax\n",
    "3. indus\n",
    "4. ptratio\n",
    "5. rm\n",
    "6. istat"
   ]
  }
 ],
 "metadata": {
  "kernelspec": {
   "display_name": "Python 3",
   "language": "python",
   "name": "python3"
  },
  "language_info": {
   "codemirror_mode": {
    "name": "ipython",
    "version": 3
   },
   "file_extension": ".py",
   "mimetype": "text/x-python",
   "name": "python",
   "nbconvert_exporter": "python",
   "pygments_lexer": "ipython3",
   "version": "3.7.3"
  }
 },
 "nbformat": 4,
 "nbformat_minor": 2
}
