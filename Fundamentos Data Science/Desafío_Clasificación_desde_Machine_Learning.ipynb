{
 "cells": [
  {
   "cell_type": "markdown",
   "metadata": {},
   "source": [
    "## Clasificación desde Machine Learning\n",
    "### Camila Vera Villa - miercoles 31 de julio"
   ]
  },
  {
   "cell_type": "markdown",
   "metadata": {},
   "source": [
    "Descripción\n",
    "En esta sesión trabajaremos con una base de datos sobre clientes morosos de un banco. Dentro de ésta se registran las siguientes observaciones:\n",
    "* default : Variable binaria. Registra si el cliente entró en morosidad o no.\n",
    "* income : Ingreso promedio declarado por el cliente.\n",
    "* balance : Total de saldo en la cuenta de crédito (deuda).\n",
    "* student : Variable binaria. Registra si el cliente es estudiante o no"
   ]
  },
  {
   "cell_type": "markdown",
   "metadata": {},
   "source": [
    "### Desafío 1: Preparación del ambiente de trabajo\n",
    "\n",
    "* Importe los módulos básicos para el análisis de datos\n",
    "* Importe seaborn .\n",
    "* Importe statsmodels\n",
    "* Importe LogisticRegression , train_test_split , StandardScaler , classification_report y roc_curve de sklearn\n"
   ]
  },
  {
   "cell_type": "code",
   "execution_count": 2,
   "metadata": {},
   "outputs": [],
   "source": [
    "# librerias clasicas\n",
    "import numpy as np\n",
    "import pandas as pd\n",
    "import matplotlib.pyplot as plt\n",
    "import seaborn as sns\n",
    "import scipy.stats as stats\n",
    "\n",
    "#statmodels para generar modelos de regresio\n",
    "import statsmodels.api as sm\n",
    "import statsmodels.formula.api as smf\n",
    "import warnings\n",
    "warnings.filterwarnings(\"ignore\")\n",
    "\n",
    "#sklearn\n",
    "from sklearn import linear_model\n",
    "from sklearn.linear_model import LinearRegression\n",
    "from sklearn.linear_model import LogisticRegression\n",
    "from sklearn.preprocessing import StandardScaler\n",
    "from sklearn.model_selection import train_test_split\n",
    "\n",
    "from sklearn.metrics import confusion_matrix\n",
    "from sklearn.metrics import mean_squared_error, r2_score\n",
    "from sklearn.metrics import accuracy_score\n",
    "from sklearn.metrics import precision_score\n",
    "from sklearn.metrics import recall_score\n",
    "from sklearn.metrics import f1_score\n",
    "from sklearn.metrics import classification_report\n",
    "from sklearn.metrics import roc_curve\n",
    "from sklearn.metrics import roc_auc_score\n",
    "\n",
    "\n",
    "# graficos\n",
    "plt.style.use('seaborn') \n",
    "plt.rcParams[\"figure.figsize\"] = (5, 2) # Tamaño \n",
    "plt.rcParams[\"figure.dpi\"] = 100 # resolución"
   ]
  },
  {
   "cell_type": "code",
   "execution_count": 33,
   "metadata": {},
   "outputs": [
    {
     "data": {
      "text/html": [
       "<div>\n",
       "<style scoped>\n",
       "    .dataframe tbody tr th:only-of-type {\n",
       "        vertical-align: middle;\n",
       "    }\n",
       "\n",
       "    .dataframe tbody tr th {\n",
       "        vertical-align: top;\n",
       "    }\n",
       "\n",
       "    .dataframe thead th {\n",
       "        text-align: right;\n",
       "    }\n",
       "</style>\n",
       "<table border=\"1\" class=\"dataframe\">\n",
       "  <thead>\n",
       "    <tr style=\"text-align: right;\">\n",
       "      <th></th>\n",
       "      <th>default</th>\n",
       "      <th>student</th>\n",
       "      <th>balance</th>\n",
       "      <th>income</th>\n",
       "    </tr>\n",
       "  </thead>\n",
       "  <tbody>\n",
       "    <tr>\n",
       "      <th>0</th>\n",
       "      <td>No</td>\n",
       "      <td>No</td>\n",
       "      <td>729.526495</td>\n",
       "      <td>44361.625074</td>\n",
       "    </tr>\n",
       "    <tr>\n",
       "      <th>1</th>\n",
       "      <td>No</td>\n",
       "      <td>Yes</td>\n",
       "      <td>817.180407</td>\n",
       "      <td>12106.134700</td>\n",
       "    </tr>\n",
       "    <tr>\n",
       "      <th>2</th>\n",
       "      <td>No</td>\n",
       "      <td>No</td>\n",
       "      <td>1073.549164</td>\n",
       "      <td>31767.138947</td>\n",
       "    </tr>\n",
       "    <tr>\n",
       "      <th>3</th>\n",
       "      <td>No</td>\n",
       "      <td>No</td>\n",
       "      <td>529.250605</td>\n",
       "      <td>35704.493935</td>\n",
       "    </tr>\n",
       "    <tr>\n",
       "      <th>4</th>\n",
       "      <td>No</td>\n",
       "      <td>No</td>\n",
       "      <td>785.655883</td>\n",
       "      <td>38463.495879</td>\n",
       "    </tr>\n",
       "    <tr>\n",
       "      <th>5</th>\n",
       "      <td>No</td>\n",
       "      <td>Yes</td>\n",
       "      <td>919.588530</td>\n",
       "      <td>7491.558572</td>\n",
       "    </tr>\n",
       "    <tr>\n",
       "      <th>6</th>\n",
       "      <td>No</td>\n",
       "      <td>No</td>\n",
       "      <td>825.513331</td>\n",
       "      <td>24905.226578</td>\n",
       "    </tr>\n",
       "    <tr>\n",
       "      <th>7</th>\n",
       "      <td>No</td>\n",
       "      <td>Yes</td>\n",
       "      <td>808.667504</td>\n",
       "      <td>17600.451344</td>\n",
       "    </tr>\n",
       "    <tr>\n",
       "      <th>8</th>\n",
       "      <td>No</td>\n",
       "      <td>No</td>\n",
       "      <td>1161.057854</td>\n",
       "      <td>37468.529288</td>\n",
       "    </tr>\n",
       "    <tr>\n",
       "      <th>9</th>\n",
       "      <td>No</td>\n",
       "      <td>No</td>\n",
       "      <td>0.000000</td>\n",
       "      <td>29275.268293</td>\n",
       "    </tr>\n",
       "  </tbody>\n",
       "</table>\n",
       "</div>"
      ],
      "text/plain": [
       "  default student      balance        income\n",
       "0      No      No   729.526495  44361.625074\n",
       "1      No     Yes   817.180407  12106.134700\n",
       "2      No      No  1073.549164  31767.138947\n",
       "3      No      No   529.250605  35704.493935\n",
       "4      No      No   785.655883  38463.495879\n",
       "5      No     Yes   919.588530   7491.558572\n",
       "6      No      No   825.513331  24905.226578\n",
       "7      No     Yes   808.667504  17600.451344\n",
       "8      No      No  1161.057854  37468.529288\n",
       "9      No      No     0.000000  29275.268293"
      ]
     },
     "execution_count": 33,
     "metadata": {},
     "output_type": "execute_result"
    }
   ],
   "source": [
    "#carga del data set y limpieza index\n",
    "df=pd.read_csv('default_credit.csv').drop(\"index\", axis=1) \n",
    "\n",
    "df.head(10)"
   ]
  },
  {
   "cell_type": "code",
   "execution_count": 4,
   "metadata": {},
   "outputs": [
    {
     "data": {
      "text/html": [
       "<div>\n",
       "<style scoped>\n",
       "    .dataframe tbody tr th:only-of-type {\n",
       "        vertical-align: middle;\n",
       "    }\n",
       "\n",
       "    .dataframe tbody tr th {\n",
       "        vertical-align: top;\n",
       "    }\n",
       "\n",
       "    .dataframe thead th {\n",
       "        text-align: right;\n",
       "    }\n",
       "</style>\n",
       "<table border=\"1\" class=\"dataframe\">\n",
       "  <thead>\n",
       "    <tr style=\"text-align: right;\">\n",
       "      <th></th>\n",
       "      <th>balance</th>\n",
       "      <th>income</th>\n",
       "    </tr>\n",
       "  </thead>\n",
       "  <tbody>\n",
       "    <tr>\n",
       "      <th>count</th>\n",
       "      <td>10000.000000</td>\n",
       "      <td>10000.000000</td>\n",
       "    </tr>\n",
       "    <tr>\n",
       "      <th>mean</th>\n",
       "      <td>835.374886</td>\n",
       "      <td>33516.981876</td>\n",
       "    </tr>\n",
       "    <tr>\n",
       "      <th>std</th>\n",
       "      <td>483.714985</td>\n",
       "      <td>13336.639563</td>\n",
       "    </tr>\n",
       "    <tr>\n",
       "      <th>min</th>\n",
       "      <td>0.000000</td>\n",
       "      <td>771.967729</td>\n",
       "    </tr>\n",
       "    <tr>\n",
       "      <th>25%</th>\n",
       "      <td>481.731105</td>\n",
       "      <td>21340.462903</td>\n",
       "    </tr>\n",
       "    <tr>\n",
       "      <th>50%</th>\n",
       "      <td>823.636973</td>\n",
       "      <td>34552.644802</td>\n",
       "    </tr>\n",
       "    <tr>\n",
       "      <th>75%</th>\n",
       "      <td>1166.308386</td>\n",
       "      <td>43807.729272</td>\n",
       "    </tr>\n",
       "    <tr>\n",
       "      <th>max</th>\n",
       "      <td>2654.322576</td>\n",
       "      <td>73554.233495</td>\n",
       "    </tr>\n",
       "  </tbody>\n",
       "</table>\n",
       "</div>"
      ],
      "text/plain": [
       "            balance        income\n",
       "count  10000.000000  10000.000000\n",
       "mean     835.374886  33516.981876\n",
       "std      483.714985  13336.639563\n",
       "min        0.000000    771.967729\n",
       "25%      481.731105  21340.462903\n",
       "50%      823.636973  34552.644802\n",
       "75%     1166.308386  43807.729272\n",
       "max     2654.322576  73554.233495"
      ]
     },
     "execution_count": 4,
     "metadata": {},
     "output_type": "execute_result"
    }
   ],
   "source": [
    "df.describe()"
   ]
  },
  {
   "cell_type": "code",
   "execution_count": 5,
   "metadata": {},
   "outputs": [
    {
     "data": {
      "text/plain": [
       "10000"
      ]
     },
     "execution_count": 5,
     "metadata": {},
     "output_type": "execute_result"
    }
   ],
   "source": [
    "len(df)"
   ]
  },
  {
   "cell_type": "markdown",
   "metadata": {},
   "source": [
    "### Desafío 2: Análisis exploratorio\n",
    "* Explore las principales relaciones entre las variables. Utilizando los métodos boxplot y lmplot de seaborn implemente los siguientes gráficos:\n",
    "\n",
    "    * Un boxplot del balance total de las cuentas, segmentado por el status de estudiante.\n",
    "    * Un boxplot del ingreso total de cada cliente, segmentado por el status de estudiante.\n",
    "    * Un boxplot del balance total de las cuentas, segmentado por el status de default.\n",
    "    * Un boxplot del ingreso total de cada cliente, segmentado por el status de default.\n",
    "    * Un diagrama de dispersión entre balance e income , segmentado por el status de estudiante.\n",
    "    * Un diagrama de dispersión entre balance e income , segmentado por el status de default.\n",
    "* Comente brevemente sobre los principales patrones de comportamiento.\n",
    "* tip: Puede utilizar el argumento hue en lmplot para identificar las observaciones por status."
   ]
  },
  {
   "cell_type": "code",
   "execution_count": null,
   "metadata": {},
   "outputs": [],
   "source": []
  },
  {
   "cell_type": "code",
   "execution_count": 6,
   "metadata": {},
   "outputs": [
    {
     "data": {
      "image/png": "[encoded data removed]",
      "text/plain": [
       "<Figure size 432x288 with 1 Axes>"
      ]
     },
     "metadata": {
      "needs_background": "light"
     },
     "output_type": "display_data"
    }
   ],
   "source": [
    "#boxplot del balance total de las cuentas, segmentado por el status de estudiante\n",
    "box_1= sns.boxplot(x=\"student\", y=\"balance\", data=df)\n",
    "sns.set(style=\"ticks\", palette=\"pastel\")"
   ]
  },
  {
   "cell_type": "code",
   "execution_count": 7,
   "metadata": {
    "scrolled": true
   },
   "outputs": [
    {
     "data": {
      "image/png": "[encoded data removed]",
      "text/plain": [
       "<Figure size 432x288 with 1 Axes>"
      ]
     },
     "metadata": {},
     "output_type": "display_data"
    }
   ],
   "source": [
    "#boxplot del ingreso total de cada cliente, segmentado por el status de estudiante\n",
    "box_2= sns.boxplot(x=\"student\", y=\"income\", data=df)\n",
    "sns.set(style=\"ticks\", palette=\"pastel\")\n"
   ]
  },
  {
   "cell_type": "code",
   "execution_count": 8,
   "metadata": {},
   "outputs": [
    {
     "data": {
      "image/png": "[encoded data removed]",
      "text/plain": [
       "<Figure size 432x288 with 1 Axes>"
      ]
     },
     "metadata": {},
     "output_type": "display_data"
    }
   ],
   "source": [
    "#boxplot del balance total de las cuentas, segmentado por el status de default.\n",
    "box_3= sns.boxplot(x=\"default\", y=\"balance\", data=df)\n",
    "sns.set(style=\"ticks\", palette=\"pastel\")"
   ]
  },
  {
   "cell_type": "code",
   "execution_count": 9,
   "metadata": {},
   "outputs": [
    {
     "data": {
      "image/png": "[encoded data removed]",
      "text/plain": [
       "<Figure size 432x288 with 1 Axes>"
      ]
     },
     "metadata": {},
     "output_type": "display_data"
    }
   ],
   "source": [
    "#boxplot del ingreso total de cada cliente, segmentado por el status de default.\n",
    "box_4= sns.boxplot(x=\"default\", y=\"income\", data=df)\n",
    "sns.set(style=\"ticks\", palette=\"pastel\")"
   ]
  },
  {
   "cell_type": "code",
   "execution_count": 10,
   "metadata": {},
   "outputs": [
    {
     "data": {
      "image/png": "[encoded data removed]",
      "text/plain": [
       "<Figure size 418.459x360 with 1 Axes>"
      ]
     },
     "metadata": {},
     "output_type": "display_data"
    }
   ],
   "source": [
    "#diagrama de dispersión entre balance e income , segmentado por el status de estudiante.\n",
    "lmplot_1 = sns.lmplot(x=\"balance\", y=\"income\", hue=\"student\", data=df)"
   ]
  },
  {
   "cell_type": "code",
   "execution_count": 11,
   "metadata": {},
   "outputs": [
    {
     "data": {
      "image/png": "[encoded data removed]",
      "text/plain": [
       "<Figure size 418.459x360 with 1 Axes>"
      ]
     },
     "metadata": {},
     "output_type": "display_data"
    }
   ],
   "source": [
    "#diagrama de dispersión entre balance e income , segmentado por el status de default.\n",
    "lmplot_3 = sns.lmplot(x=\"balance\", y=\"income\", hue=\"default\", data=df);"
   ]
  },
  {
   "cell_type": "markdown",
   "metadata": {},
   "source": [
    "Comente brevemente sobre los principales patrones de comportamiento:\n",
    "* Se observa que el ingreso de los estudiantes es menor que de los otros clientes no estudiantes, asi como tambien menos disperso.\n",
    "* Se observa que el balance de los estudiantes es superior a los de los otros clientes, aunque decreciente respecto al ingreso, a diferencia de los no esyudoantes, cuyo balance es mas constante. \n",
    "* Se observa que los clientes morosos tienen un mayor balance y que los ingresos se distribuyen de manera similar entre morosos y no morosos.\n",
    "* Se oberva que el ingreso es decreciente respecto al balance, independientemente si se es moroso o no. Sin embargo, los morosos tiene una caida más abrupta (pronunciada) del ingreso respecto al balance.\n"
   ]
  },
  {
   "cell_type": "code",
   "execution_count": null,
   "metadata": {},
   "outputs": [],
   "source": []
  },
  {
   "cell_type": "markdown",
   "metadata": {},
   "source": [
    "### Desafío 3: Modelación econométrica\n",
    "* Recodifique las variables student y default para que adquieran atributos numéricos.\n",
    "* Implemente el siguiente modelo econométrico:\n",
    "* A partir de este modelo, depúrelo y mantenga las principales características. Ejecute de nuevo el modelo y comente brevemente sobre el comportamiento de los atributos."
   ]
  },
  {
   "cell_type": "code",
   "execution_count": 12,
   "metadata": {},
   "outputs": [
    {
     "data": {
      "text/plain": [
       "No     7056\n",
       "Yes    2944\n",
       "Name: student, dtype: int64"
      ]
     },
     "execution_count": 12,
     "metadata": {},
     "output_type": "execute_result"
    }
   ],
   "source": [
    "#1. RECODIFICACION DE STUDENT Y DEFAULT\n",
    "df['student'].value_counts()"
   ]
  },
  {
   "cell_type": "code",
   "execution_count": 13,
   "metadata": {},
   "outputs": [
    {
     "data": {
      "text/plain": [
       "No     9667\n",
       "Yes     333\n",
       "Name: default, dtype: int64"
      ]
     },
     "execution_count": 13,
     "metadata": {},
     "output_type": "execute_result"
    }
   ],
   "source": [
    "df['default'].value_counts()"
   ]
  },
  {
   "cell_type": "code",
   "execution_count": 14,
   "metadata": {},
   "outputs": [],
   "source": [
    "#MODELO ECONOMETRICO\n",
    "df['student_bin'] = np.where(df['student'] == 'Yes',1,0)\n",
    "df['default_bin'] = np.where(df['default'] == 'Yes',1,0)"
   ]
  },
  {
   "cell_type": "code",
   "execution_count": 15,
   "metadata": {},
   "outputs": [
    {
     "name": "stdout",
     "output_type": "stream",
     "text": [
      "Optimization terminated successfully.\n",
      "         Current function value: 0.078577\n",
      "         Iterations 10\n"
     ]
    },
    {
     "data": {
      "text/html": [
       "<table class=\"simpletable\">\n",
       "<caption>Logit Regression Results</caption>\n",
       "<tr>\n",
       "  <th>Dep. Variable:</th>    <td>default_bin</td>   <th>  No. Observations:  </th>   <td> 10000</td>  \n",
       "</tr>\n",
       "<tr>\n",
       "  <th>Model:</th>               <td>Logit</td>      <th>  Df Residuals:      </th>   <td>  9996</td>  \n",
       "</tr>\n",
       "<tr>\n",
       "  <th>Method:</th>               <td>MLE</td>       <th>  Df Model:          </th>   <td>     3</td>  \n",
       "</tr>\n",
       "<tr>\n",
       "  <th>Date:</th>          <td>Mon, 12 Aug 2019</td> <th>  Pseudo R-squ.:     </th>   <td>0.4619</td>  \n",
       "</tr>\n",
       "<tr>\n",
       "  <th>Time:</th>              <td>00:31:49</td>     <th>  Log-Likelihood:    </th>  <td> -785.77</td> \n",
       "</tr>\n",
       "<tr>\n",
       "  <th>converged:</th>           <td>True</td>       <th>  LL-Null:           </th>  <td> -1460.3</td> \n",
       "</tr>\n",
       "<tr>\n",
       "  <th> </th>                      <td> </td>        <th>  LLR p-value:       </th> <td>3.257e-292</td>\n",
       "</tr>\n",
       "</table>\n",
       "<table class=\"simpletable\">\n",
       "<tr>\n",
       "       <td></td>          <th>coef</th>     <th>std err</th>      <th>z</th>      <th>P>|z|</th>  <th>[0.025</th>    <th>0.975]</th>  \n",
       "</tr>\n",
       "<tr>\n",
       "  <th>Intercept</th>   <td>  -10.8690</td> <td>    0.492</td> <td>  -22.079</td> <td> 0.000</td> <td>  -11.834</td> <td>   -9.904</td>\n",
       "</tr>\n",
       "<tr>\n",
       "  <th>balance</th>     <td>    0.0057</td> <td>    0.000</td> <td>   24.737</td> <td> 0.000</td> <td>    0.005</td> <td>    0.006</td>\n",
       "</tr>\n",
       "<tr>\n",
       "  <th>income</th>      <td> 3.033e-06</td> <td>  8.2e-06</td> <td>    0.370</td> <td> 0.712</td> <td> -1.3e-05</td> <td> 1.91e-05</td>\n",
       "</tr>\n",
       "<tr>\n",
       "  <th>student_bin</th> <td>   -0.6468</td> <td>    0.236</td> <td>   -2.738</td> <td> 0.006</td> <td>   -1.110</td> <td>   -0.184</td>\n",
       "</tr>\n",
       "</table><br/><br/>Possibly complete quasi-separation: A fraction 0.15 of observations can be<br/>perfectly predicted. This might indicate that there is complete<br/>quasi-separation. In this case some parameters will not be identified."
      ],
      "text/plain": [
       "<class 'statsmodels.iolib.summary.Summary'>\n",
       "\"\"\"\n",
       "                           Logit Regression Results                           \n",
       "==============================================================================\n",
       "Dep. Variable:            default_bin   No. Observations:                10000\n",
       "Model:                          Logit   Df Residuals:                     9996\n",
       "Method:                           MLE   Df Model:                            3\n",
       "Date:                Mon, 12 Aug 2019   Pseudo R-squ.:                  0.4619\n",
       "Time:                        00:31:49   Log-Likelihood:                -785.77\n",
       "converged:                       True   LL-Null:                       -1460.3\n",
       "                                        LLR p-value:                3.257e-292\n",
       "===============================================================================\n",
       "                  coef    std err          z      P>|z|      [0.025      0.975]\n",
       "-------------------------------------------------------------------------------\n",
       "Intercept     -10.8690      0.492    -22.079      0.000     -11.834      -9.904\n",
       "balance         0.0057      0.000     24.737      0.000       0.005       0.006\n",
       "income       3.033e-06    8.2e-06      0.370      0.712    -1.3e-05    1.91e-05\n",
       "student_bin    -0.6468      0.236     -2.738      0.006      -1.110      -0.184\n",
       "===============================================================================\n",
       "\n",
       "Possibly complete quasi-separation: A fraction 0.15 of observations can be\n",
       "perfectly predicted. This might indicate that there is complete\n",
       "quasi-separation. In this case some parameters will not be identified.\n",
       "\"\"\""
      ]
     },
     "execution_count": 15,
     "metadata": {},
     "output_type": "execute_result"
    }
   ],
   "source": [
    "m1_logit = smf.logit('default_bin ~ balance + income + student_bin', df).fit() \n",
    "m1_logit.summary()"
   ]
  },
  {
   "cell_type": "code",
   "execution_count": 16,
   "metadata": {},
   "outputs": [
    {
     "name": "stdout",
     "output_type": "stream",
     "text": [
      "Optimization terminated successfully.\n",
      "         Current function value: 0.078584\n",
      "         Iterations 10\n"
     ]
    },
    {
     "data": {
      "text/html": [
       "<table class=\"simpletable\">\n",
       "<caption>Logit Regression Results</caption>\n",
       "<tr>\n",
       "  <th>Dep. Variable:</th>    <td>default_bin</td>   <th>  No. Observations:  </th>   <td> 10000</td>  \n",
       "</tr>\n",
       "<tr>\n",
       "  <th>Model:</th>               <td>Logit</td>      <th>  Df Residuals:      </th>   <td>  9997</td>  \n",
       "</tr>\n",
       "<tr>\n",
       "  <th>Method:</th>               <td>MLE</td>       <th>  Df Model:          </th>   <td>     2</td>  \n",
       "</tr>\n",
       "<tr>\n",
       "  <th>Date:</th>          <td>Mon, 12 Aug 2019</td> <th>  Pseudo R-squ.:     </th>   <td>0.4619</td>  \n",
       "</tr>\n",
       "<tr>\n",
       "  <th>Time:</th>              <td>00:31:49</td>     <th>  Log-Likelihood:    </th>  <td> -785.84</td> \n",
       "</tr>\n",
       "<tr>\n",
       "  <th>converged:</th>           <td>True</td>       <th>  LL-Null:           </th>  <td> -1460.3</td> \n",
       "</tr>\n",
       "<tr>\n",
       "  <th> </th>                      <td> </td>        <th>  LLR p-value:       </th> <td>1.189e-293</td>\n",
       "</tr>\n",
       "</table>\n",
       "<table class=\"simpletable\">\n",
       "<tr>\n",
       "       <td></td>          <th>coef</th>     <th>std err</th>      <th>z</th>      <th>P>|z|</th>  <th>[0.025</th>    <th>0.975]</th>  \n",
       "</tr>\n",
       "<tr>\n",
       "  <th>Intercept</th>   <td>  -10.7495</td> <td>    0.369</td> <td>  -29.115</td> <td> 0.000</td> <td>  -11.473</td> <td>  -10.026</td>\n",
       "</tr>\n",
       "<tr>\n",
       "  <th>balance</th>     <td>    0.0057</td> <td>    0.000</td> <td>   24.748</td> <td> 0.000</td> <td>    0.005</td> <td>    0.006</td>\n",
       "</tr>\n",
       "<tr>\n",
       "  <th>student_bin</th> <td>   -0.7149</td> <td>    0.148</td> <td>   -4.846</td> <td> 0.000</td> <td>   -1.004</td> <td>   -0.426</td>\n",
       "</tr>\n",
       "</table><br/><br/>Possibly complete quasi-separation: A fraction 0.15 of observations can be<br/>perfectly predicted. This might indicate that there is complete<br/>quasi-separation. In this case some parameters will not be identified."
      ],
      "text/plain": [
       "<class 'statsmodels.iolib.summary.Summary'>\n",
       "\"\"\"\n",
       "                           Logit Regression Results                           \n",
       "==============================================================================\n",
       "Dep. Variable:            default_bin   No. Observations:                10000\n",
       "Model:                          Logit   Df Residuals:                     9997\n",
       "Method:                           MLE   Df Model:                            2\n",
       "Date:                Mon, 12 Aug 2019   Pseudo R-squ.:                  0.4619\n",
       "Time:                        00:31:49   Log-Likelihood:                -785.84\n",
       "converged:                       True   LL-Null:                       -1460.3\n",
       "                                        LLR p-value:                1.189e-293\n",
       "===============================================================================\n",
       "                  coef    std err          z      P>|z|      [0.025      0.975]\n",
       "-------------------------------------------------------------------------------\n",
       "Intercept     -10.7495      0.369    -29.115      0.000     -11.473     -10.026\n",
       "balance         0.0057      0.000     24.748      0.000       0.005       0.006\n",
       "student_bin    -0.7149      0.148     -4.846      0.000      -1.004      -0.426\n",
       "===============================================================================\n",
       "\n",
       "Possibly complete quasi-separation: A fraction 0.15 of observations can be\n",
       "perfectly predicted. This might indicate that there is complete\n",
       "quasi-separation. In this case some parameters will not be identified.\n",
       "\"\"\""
      ]
     },
     "execution_count": 16,
     "metadata": {},
     "output_type": "execute_result"
    }
   ],
   "source": [
    "m2_logit = smf.logit('default_bin ~ balance + student_bin', df).fit() \n",
    "m2_logit.summary()"
   ]
  },
  {
   "cell_type": "markdown",
   "metadata": {},
   "source": [
    "Comentarios\n",
    "* Se aprecia que es posible depurar el modelo  y mejorar su calidad. En este caso se mantiene el logaritmo de la verosimilitud en -785.84\n",
    "    \n",
    "* Se mantiene el pseudo R2, lo cual da cuenta que es positivo quitar variables ya que este indicador no emperora."
   ]
  },
  {
   "cell_type": "markdown",
   "metadata": {},
   "source": [
    "### Desafío 4: Entrenar\n",
    "* A partir del modelo depurado, genere un modelo predictivo con las siguientes características:\n",
    "    * Estandarize la matriz de atributos.\n",
    "    * Genere subconjuntos de entrenamiento y validación, separando el 33% de la muestra en el conjunto de validación.\n",
    "    * Implemente el modelo sin alterar los hiperparámetros.\n",
    "    * Genere la predicción de las clases y de la probabilidad.\n",
    "    * Reporte las métricas de precision, recall y f1 para ambas clases.\n",
    "    * Grafique la curva Receiver Operator Characteristic.\n",
    "    * En base a los pasos, comente sobre el desempeño predictivo del modelo."
   ]
  },
  {
   "cell_type": "code",
   "execution_count": 17,
   "metadata": {},
   "outputs": [
    {
     "data": {
      "text/html": [
       "<div>\n",
       "<style scoped>\n",
       "    .dataframe tbody tr th:only-of-type {\n",
       "        vertical-align: middle;\n",
       "    }\n",
       "\n",
       "    .dataframe tbody tr th {\n",
       "        vertical-align: top;\n",
       "    }\n",
       "\n",
       "    .dataframe thead th {\n",
       "        text-align: right;\n",
       "    }\n",
       "</style>\n",
       "<table border=\"1\" class=\"dataframe\">\n",
       "  <thead>\n",
       "    <tr style=\"text-align: right;\">\n",
       "      <th></th>\n",
       "      <th>default</th>\n",
       "      <th>student</th>\n",
       "      <th>balance</th>\n",
       "      <th>income</th>\n",
       "      <th>student_bin</th>\n",
       "      <th>default_bin</th>\n",
       "    </tr>\n",
       "  </thead>\n",
       "  <tbody>\n",
       "    <tr>\n",
       "      <th>0</th>\n",
       "      <td>No</td>\n",
       "      <td>No</td>\n",
       "      <td>729.526495</td>\n",
       "      <td>44361.625074</td>\n",
       "      <td>0</td>\n",
       "      <td>0</td>\n",
       "    </tr>\n",
       "    <tr>\n",
       "      <th>1</th>\n",
       "      <td>No</td>\n",
       "      <td>Yes</td>\n",
       "      <td>817.180407</td>\n",
       "      <td>12106.134700</td>\n",
       "      <td>1</td>\n",
       "      <td>0</td>\n",
       "    </tr>\n",
       "    <tr>\n",
       "      <th>2</th>\n",
       "      <td>No</td>\n",
       "      <td>No</td>\n",
       "      <td>1073.549164</td>\n",
       "      <td>31767.138947</td>\n",
       "      <td>0</td>\n",
       "      <td>0</td>\n",
       "    </tr>\n",
       "    <tr>\n",
       "      <th>3</th>\n",
       "      <td>No</td>\n",
       "      <td>No</td>\n",
       "      <td>529.250605</td>\n",
       "      <td>35704.493935</td>\n",
       "      <td>0</td>\n",
       "      <td>0</td>\n",
       "    </tr>\n",
       "    <tr>\n",
       "      <th>4</th>\n",
       "      <td>No</td>\n",
       "      <td>No</td>\n",
       "      <td>785.655883</td>\n",
       "      <td>38463.495879</td>\n",
       "      <td>0</td>\n",
       "      <td>0</td>\n",
       "    </tr>\n",
       "  </tbody>\n",
       "</table>\n",
       "</div>"
      ],
      "text/plain": [
       "  default student      balance        income  student_bin  default_bin\n",
       "0      No      No   729.526495  44361.625074            0            0\n",
       "1      No     Yes   817.180407  12106.134700            1            0\n",
       "2      No      No  1073.549164  31767.138947            0            0\n",
       "3      No      No   529.250605  35704.493935            0            0\n",
       "4      No      No   785.655883  38463.495879            0            0"
      ]
     },
     "execution_count": 17,
     "metadata": {},
     "output_type": "execute_result"
    }
   ],
   "source": [
    "df.head()"
   ]
  },
  {
   "cell_type": "code",
   "execution_count": 18,
   "metadata": {},
   "outputs": [],
   "source": [
    "#segmentacion de los datos\n",
    "#seed = 666\n",
    "X_train, X_test, y_train, y_test = train_test_split(df.loc[:, 'balance':'student_bin' ], df['default_bin'], test_size=.33, random_state=666)"
   ]
  },
  {
   "cell_type": "code",
   "execution_count": 19,
   "metadata": {},
   "outputs": [
    {
     "data": {
      "text/plain": [
       "(6700, 3)"
      ]
     },
     "execution_count": 19,
     "metadata": {},
     "output_type": "execute_result"
    }
   ],
   "source": [
    "X_train.shape"
   ]
  },
  {
   "cell_type": "code",
   "execution_count": 20,
   "metadata": {},
   "outputs": [],
   "source": [
    "#estandarizar matriz de atributos\n",
    "std_scaler = StandardScaler()\n",
    "X_train_std = std_scaler.fit_transform(X_train)\n",
    "X_test_std = std_scaler.fit_transform(X_test)"
   ]
  },
  {
   "cell_type": "code",
   "execution_count": 21,
   "metadata": {},
   "outputs": [],
   "source": [
    "#modelo\n",
    "default_model = LogisticRegression().fit(X_train_std, y_train)"
   ]
  },
  {
   "cell_type": "code",
   "execution_count": 22,
   "metadata": {},
   "outputs": [
    {
     "data": {
      "text/plain": [
       "array([-5.80550501])"
      ]
     },
     "execution_count": 22,
     "metadata": {},
     "output_type": "execute_result"
    }
   ],
   "source": [
    "#intercepto \n",
    "default_model.intercept_"
   ]
  },
  {
   "cell_type": "code",
   "execution_count": 23,
   "metadata": {},
   "outputs": [
    {
     "data": {
      "text/plain": [
       "array([[ 2.55041374, -0.10382511, -0.37057315]])"
      ]
     },
     "execution_count": 23,
     "metadata": {},
     "output_type": "execute_result"
    }
   ],
   "source": [
    "#coeficientes\n",
    "default_model.coef_"
   ]
  },
  {
   "cell_type": "code",
   "execution_count": 24,
   "metadata": {},
   "outputs": [
    {
     "data": {
      "text/plain": [
       "array([0, 0, 0, 0, 0, 0, 0, 0, 0, 0])"
      ]
     },
     "execution_count": 24,
     "metadata": {},
     "output_type": "execute_result"
    }
   ],
   "source": [
    "#predicciones\n",
    "yhat = default_model.predict(X_test_std)\n",
    "yhat[:10]"
   ]
  },
  {
   "cell_type": "code",
   "execution_count": 25,
   "metadata": {
    "scrolled": true
   },
   "outputs": [
    {
     "data": {
      "text/plain": [
       "0    0\n",
       "1    0\n",
       "2    0\n",
       "3    0\n",
       "4    0\n",
       "5    0\n",
       "6    0\n",
       "7    0\n",
       "8    0\n",
       "9    0\n",
       "Name: default_bin, dtype: int32"
      ]
     },
     "execution_count": 25,
     "metadata": {},
     "output_type": "execute_result"
    }
   ],
   "source": [
    "df['default_bin'].head(10)"
   ]
  },
  {
   "cell_type": "markdown",
   "metadata": {},
   "source": [
    "El modelo arroja la clasificación (predicción de clase) para las  10 primeras observaciones, al compararse con las observaciones del data set original, se puede desprender que el modelo es preciso para clasificar aquellos individuos que no son morosos, puesto que tiene un 90 % de acierto en las 10 primeras observaciones."
   ]
  },
  {
   "cell_type": "code",
   "execution_count": 26,
   "metadata": {
    "scrolled": true
   },
   "outputs": [
    {
     "data": {
      "text/plain": [
       "array([[8.97738463e-01, 1.02261537e-01],\n",
       "       [9.98229683e-01, 1.77031669e-03],\n",
       "       [7.83487838e-01, 2.16512162e-01],\n",
       "       [9.99201055e-01, 7.98945093e-04],\n",
       "       [9.93308106e-01, 6.69189376e-03],\n",
       "       [9.98992807e-01, 1.00719272e-03],\n",
       "       [9.91497748e-01, 8.50225233e-03],\n",
       "       [9.97478644e-01, 2.52135550e-03],\n",
       "       [9.99957443e-01, 4.25567141e-05],\n",
       "       [9.96082726e-01, 3.91727421e-03],\n",
       "       [9.99487657e-01, 5.12343431e-04],\n",
       "       [9.82878661e-01, 1.71213390e-02],\n",
       "       [9.98345156e-01, 1.65484378e-03],\n",
       "       [9.95310757e-01, 4.68924290e-03],\n",
       "       [9.99758627e-01, 2.41372653e-04],\n",
       "       [9.80164806e-01, 1.98351944e-02],\n",
       "       [9.99616661e-01, 3.83338509e-04],\n",
       "       [9.99213973e-01, 7.86026733e-04],\n",
       "       [9.91765072e-01, 8.23492824e-03],\n",
       "       [9.98861928e-01, 1.13807249e-03]])"
      ]
     },
     "execution_count": 26,
     "metadata": {},
     "output_type": "execute_result"
    }
   ],
   "source": [
    "#matriz de listas con probabilidades de clase 0 y 1\n",
    "yhat_proba = default_model.predict_proba(X_test_std)\n",
    "yhat_proba[:20]"
   ]
  },
  {
   "cell_type": "code",
   "execution_count": 27,
   "metadata": {},
   "outputs": [
    {
     "data": {
      "text/plain": [
       "0    3186\n",
       "1     114\n",
       "Name: default_bin, dtype: int64"
      ]
     },
     "execution_count": 27,
     "metadata": {},
     "output_type": "execute_result"
    }
   ],
   "source": [
    "y_test.value_counts()"
   ]
  },
  {
   "cell_type": "code",
   "execution_count": 28,
   "metadata": {
    "scrolled": false
   },
   "outputs": [
    {
     "name": "stdout",
     "output_type": "stream",
     "text": [
      "              precision    recall  f1-score   support\n",
      "\n",
      "           0       0.97      1.00      0.99      3186\n",
      "           1       0.78      0.28      0.41       114\n",
      "\n",
      "   micro avg       0.97      0.97      0.97      3300\n",
      "   macro avg       0.88      0.64      0.70      3300\n",
      "weighted avg       0.97      0.97      0.97      3300\n",
      "\n"
     ]
    }
   ],
   "source": [
    "#indicadores para evaluar validez del modelo\n",
    "print(classification_report(y_test, yhat))"
   ]
  },
  {
   "cell_type": "markdown",
   "metadata": {},
   "source": [
    "Las metricas del modelo reportan lo siguiente:\n",
    "\n",
    "  - **Precision** es la manera en que el modelo predice exitosamente los casos verdaderos , en este caso vemos que para el caso de los verdaderos negativos tiene una precisión excelente del 97%, para el caso de los verdaderos positivos la precisión cae a un 78 %\n",
    "  - **Recall** es una medida de sensibilidad del modelo que mide la fracción de verdaderos predichos por el modelo. Es decir, si logra predecir aquellos resultados que son relevantes. En este modelo se observa que el recall para los verdaderos negativos es 1.00 lo que significa que el modelo es capaz de predecir completamente aquellos resultados que resultan ser relevantes, sin embargo para los verdaderos positivos el recall es de sólo 28%, lo que indica que el modelo no tiene un buen desempeño para clasificar los verdaderos positivos.\n",
    "  - **F1-score**: es una medida ponderada entre las metricas anteriores. Para el caso de los verdadero negativos el f1- score es excelente, lo que indica que el modelo clasifica muy bien a los individuos que no son morosos, sin embargo para el caso de los individuos morosos el f1- score decae a 0.41 lo que indica que el modelo tiene un desempeño bajo en estos casos. \n",
    "\n",
    "\n",
    "Las divergencias entre los verdaderos negativos y positivos, se pueden justificar a partir del número de casos de entrenamiento y test, para el caso de los verdaderos negativos se tuvieron 3186 registros y para los verdaderos positivos solamente 114 casos."
   ]
  },
  {
   "cell_type": "code",
   "execution_count": 29,
   "metadata": {
    "scrolled": true
   },
   "outputs": [
    {
     "data": {
      "text/plain": [
       "array([[3177,    9],\n",
       "       [  82,   32]], dtype=int64)"
      ]
     },
     "execution_count": 29,
     "metadata": {},
     "output_type": "execute_result"
    }
   ],
   "source": [
    "#matriz de confusion\n",
    "m_confusion = confusion_matrix(y_test,yhat)\n",
    "m_confusion"
   ]
  },
  {
   "cell_type": "markdown",
   "metadata": {},
   "source": [
    "La matriz de confusión  informa las 4 categorías posibles: verdadero negativo, falso negativo, verdadero positivo, falso positivo; si observamos la mayor cantidad de observaciones se registraron como \"verdaderas negativas\", ésto se debe a que el modelo inicialmente tenía una mayor cantidad de casos de personas no morosas (97 %)."
   ]
  },
  {
   "cell_type": "code",
   "execution_count": 30,
   "metadata": {
    "scrolled": true
   },
   "outputs": [
    {
     "data": {
      "text/plain": [
       "0.9724242424242424"
      ]
     },
     "execution_count": 30,
     "metadata": {},
     "output_type": "execute_result"
    }
   ],
   "source": [
    "accuracy_score(y_test,yhat)"
   ]
  },
  {
   "cell_type": "markdown",
   "metadata": {},
   "source": [
    "La precisión del modelo se obtiene al ponderar los verdaderos positivos con los verdaderos negativos, por el total de valores predichos, se observa una concordancia del 0.97 lo que indica que el modelo tiene una buena precisión."
   ]
  },
  {
   "cell_type": "code",
   "execution_count": 31,
   "metadata": {},
   "outputs": [],
   "source": [
    "#reestimacion de los valores predichos del modelo para obtener la probabilidad entre 0 y 1\n",
    "#probabilidades de ocurrencia (valor 1), falsos positivos,verdaderos positivos.\n",
    "yhat = default_model.predict_proba(X_test_std)[:, 1]\n",
    "\n",
    "#generacion de os objetos de roc curve\n",
    "false_positive, true_positive, threshold = roc_curve(y_test, yhat)"
   ]
  },
  {
   "cell_type": "markdown",
   "metadata": {},
   "source": [
    "Curva ROC"
   ]
  },
  {
   "cell_type": "code",
   "execution_count": 32,
   "metadata": {},
   "outputs": [
    {
     "name": "stdout",
     "output_type": "stream",
     "text": [
      "El área bajo la curva es: 0.95\n"
     ]
    },
    {
     "data": {
      "image/png": "[encoded data removed]",
      "text/plain": [
       "<Figure size 432x288 with 1 Axes>"
      ]
     },
     "metadata": {},
     "output_type": "display_data"
    }
   ],
   "source": [
    "plt.title('Curva ROC')\n",
    "plt.plot(false_positive, true_positive, lw=1)\n",
    "plt.plot([0, 1], ls=\"--\", lw=1)\n",
    "plt.plot([0, 0], [1, 0] , c='limegreen', lw=3), plt.plot([1, 1] , c='limegreen', lw=3)\n",
    "\n",
    "plt.ylabel('Verdaderos Positivos')\n",
    "plt.xlabel('Falsos Positivos');\n",
    "\n",
    "print('El área bajo la curva es:',round(roc_auc_score(y_test, yhat),2))"
   ]
  },
  {
   "cell_type": "markdown",
   "metadata": {},
   "source": [
    "- La Curva ROC muestra el desempeño del modelo frente a la probabilidad de clasificación aleatoria (línea naranja; 0.5), se aprecia  que el modelo tiene un altisimo desempeño (curva azul), siendo la cercana a la curva teórica de clasificación  (curva verde), el coeficiente de desempeño es 0.95(area bajo la curva), lo que indica la alta precisión del modelo. Sin embargo, al estar desbalanceada la proporción de verdaderos negativos y verdaderos positivos, el modelo podría estar sobreestimando (overfitting) aquellos casos que no son verdaderos negativos y subestimando (underfitting) los casos que si son verdaderos positivos."
   ]
  }
 ],
 "metadata": {
  "kernelspec": {
   "display_name": "Python 3",
   "language": "python",
   "name": "python3"
  },
  "language_info": {
   "codemirror_mode": {
    "name": "ipython",
    "version": 3
   },
   "file_extension": ".py",
   "mimetype": "text/x-python",
   "name": "python",
   "nbconvert_exporter": "python",
   "pygments_lexer": "ipython3",
   "version": "3.7.3"
  }
 },
 "nbformat": 4,
 "nbformat_minor": 2
}
