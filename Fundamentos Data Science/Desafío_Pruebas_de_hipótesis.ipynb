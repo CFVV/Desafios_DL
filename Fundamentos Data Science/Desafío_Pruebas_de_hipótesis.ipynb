{
 "cells": [
  {
   "cell_type": "markdown",
   "metadata": {},
   "source": [
    "## Desafío - Pruebas de hipótesis\n",
    "### Camila Vera Villa - Miercoles 10 de julio"
   ]
  },
  {
   "cell_type": "markdown",
   "metadata": {},
   "source": [
    "###  1. Evaluar juicios de hipótesis\n",
    "\n",
    "#### A continuación se presenta una serie de enunciados de hipótesis. Usted debe discernir si es posible rechazar la hipótesis nula.\n",
    "\n",
    "* 75 individuos elegidos al azar fueron alcanzados por activistas pro-LGTB que se identificaron como homosexuales, y 75 alcanzados por activistas pro-LGTB que se identificaron como heterosexuales. \n",
    " \n",
    " El objetivo era medir actitudes frente a la adopción homoparentales. \n",
    " La organización encargada de procesar los datos obtuvo los siguientes resultados:\n",
    "\n",
    "    * El 67% de los encuestados por heterosexuales se mostró a favor de la adopción homoparental, mientras que un 72% de los encuestados por activistas que se identifaron como homosexuales se mostraron a favor de la adopción homoparental.\n",
    "\n",
    "    * Asumiendo que la hipótesis nula es que ambos porcentajes no son diferentes, y la hipótesis alternativa es que existe una diferencia substancial entre ambos.\n",
    "    \n",
    "    * Con un valor de prueba p = 11.83 y un puntaje de corte de 2.58(puntaje de confianza, debe compararse con el estadistico de contraste(Z)), ¿qué se debe concluir?\n",
    "\n",
    "NOTA: \n",
    "Pregunta siguiente -anulada-\n",
    "* Un investigador de la Sociedad de Abstemios de Chile sugiere que los hombres tienen mayores niveles de consumo de alcohol que las mujeres, siendo esta diferencia estadísticamente significativa. Esto en base a su estudio realizado con 48 individuos, donde contrastó su puntaje de prueba a una distribución asintóticamente normal.\n",
    "\n",
    "#### ¿Qué se puede decir sobre su estudio?"
   ]
  },
  {
   "cell_type": "markdown",
   "metadata": {},
   "source": [
    "#### Evaluacion de juicios\n",
    "* Respecto a la hipotesis de activistas LGTB:\n",
    "No es posible rechazar la hipotesis nula, ya que que el valor de prueba p (11.83) es mucho mayor que el valor z.\n",
    "\n",
    "* Respecto a la hipotesis de la Sociedad de Abstemios:\n",
    "A mi parecer faltan muchos datos e informacion para poder emitir juicios adecuados respecto al estudio, por ejemplo, falta informacion respecto al tamano de la muestra, ya que no se puede saber si es representativa para una distribucion normal. No se especifica la cantidad de hombres y mujeres muestreados, tampoco la estratificacion de ella: rango etario, nivel socioeconomico, lugar de nacimieinto, escolaridad, residencia, entre otros."
   ]
  },
  {
   "cell_type": "markdown",
   "metadata": {},
   "source": [
    "### 2. Importe la base de datos utilizada la sesión presencial anterior\n",
    "\n",
    "* Agrege una serie de variables binarias por cada continente de la variable region .\n",
    "\n",
    "    * tip: Utilice np.where para ello.\n",
    "    \n",
    "* De manera similar a la sesión anterior, enfóquese en las siguientes variables:\n",
    "\n",
    "    * Apellidos desde la A hasta la N: Enfocarse en las variables chldmort , adfert y life .\n",
    "    * Apellidos desde la N hasta la Z: Enfocarse en las variables femlab , literacy y school .\n",
    "    \n",
    "#### Apellido: Vera. Enfoque en variables femlab , literacy y school .\n",
    "   #### femlab : Tasa entre hombres y mujeres en el mercado laboral.\n",
    "   #### literacy : Tasa de alfabetismo.\n",
    "   #### school : Promedio años de escolaridad.\n"
   ]
  },
  {
   "cell_type": "code",
   "execution_count": 1,
   "metadata": {},
   "outputs": [],
   "source": [
    "import pandas as pd\n",
    "import numpy as np\n",
    "import matplotlib.pyplot as plt\n",
    "from scipy import stats\n",
    "import seaborn as sns"
   ]
  },
  {
   "cell_type": "code",
   "execution_count": 2,
   "metadata": {
    "scrolled": false
   },
   "outputs": [
    {
     "data": {
      "text/html": [
       "<div>\n",
       "<style scoped>\n",
       "    .dataframe tbody tr th:only-of-type {\n",
       "        vertical-align: middle;\n",
       "    }\n",
       "\n",
       "    .dataframe tbody tr th {\n",
       "        vertical-align: top;\n",
       "    }\n",
       "\n",
       "    .dataframe thead th {\n",
       "        text-align: right;\n",
       "    }\n",
       "</style>\n",
       "<table border=\"1\" class=\"dataframe\">\n",
       "  <thead>\n",
       "    <tr style=\"text-align: right;\">\n",
       "      <th></th>\n",
       "      <th>Unnamed: 0</th>\n",
       "      <th>country</th>\n",
       "      <th>region</th>\n",
       "      <th>gdp</th>\n",
       "      <th>school</th>\n",
       "      <th>adfert</th>\n",
       "      <th>chldmort</th>\n",
       "      <th>life</th>\n",
       "      <th>pop</th>\n",
       "      <th>urban</th>\n",
       "      <th>femlab</th>\n",
       "      <th>literacy</th>\n",
       "      <th>co2</th>\n",
       "      <th>gini</th>\n",
       "    </tr>\n",
       "  </thead>\n",
       "  <tbody>\n",
       "    <tr>\n",
       "      <th>0</th>\n",
       "      <td>1</td>\n",
       "      <td>Algeria</td>\n",
       "      <td>Africa</td>\n",
       "      <td>7300.399902</td>\n",
       "      <td>6.716667</td>\n",
       "      <td>7.300000</td>\n",
       "      <td>34.75</td>\n",
       "      <td>72.316666</td>\n",
       "      <td>34172236</td>\n",
       "      <td>64.933334</td>\n",
       "      <td>0.4522</td>\n",
       "      <td>72.599998</td>\n",
       "      <td>15.00</td>\n",
       "      <td>NaN</td>\n",
       "    </tr>\n",
       "    <tr>\n",
       "      <th>1</th>\n",
       "      <td>2</td>\n",
       "      <td>Benin</td>\n",
       "      <td>Africa</td>\n",
       "      <td>1338.800049</td>\n",
       "      <td>3.100000</td>\n",
       "      <td>111.699997</td>\n",
       "      <td>122.75</td>\n",
       "      <td>54.733334</td>\n",
       "      <td>8237634</td>\n",
       "      <td>41.000000</td>\n",
       "      <td>0.8482</td>\n",
       "      <td>41.700001</td>\n",
       "      <td>1.20</td>\n",
       "      <td>NaN</td>\n",
       "    </tr>\n",
       "    <tr>\n",
       "      <th>2</th>\n",
       "      <td>3</td>\n",
       "      <td>Botswana</td>\n",
       "      <td>Africa</td>\n",
       "      <td>12307.400391</td>\n",
       "      <td>8.600000</td>\n",
       "      <td>52.099998</td>\n",
       "      <td>60.25</td>\n",
       "      <td>52.250000</td>\n",
       "      <td>1941233</td>\n",
       "      <td>59.250000</td>\n",
       "      <td>0.8870</td>\n",
       "      <td>84.099998</td>\n",
       "      <td>9.20</td>\n",
       "      <td>NaN</td>\n",
       "    </tr>\n",
       "    <tr>\n",
       "      <th>3</th>\n",
       "      <td>4</td>\n",
       "      <td>Burkina Faso</td>\n",
       "      <td>Africa</td>\n",
       "      <td>1063.400024</td>\n",
       "      <td>1.300000</td>\n",
       "      <td>124.800003</td>\n",
       "      <td>170.50</td>\n",
       "      <td>53.783333</td>\n",
       "      <td>15308383</td>\n",
       "      <td>23.583334</td>\n",
       "      <td>0.8584</td>\n",
       "      <td>23.600000</td>\n",
       "      <td>0.20</td>\n",
       "      <td>NaN</td>\n",
       "    </tr>\n",
       "    <tr>\n",
       "      <th>4</th>\n",
       "      <td>5</td>\n",
       "      <td>Burundi</td>\n",
       "      <td>Africa</td>\n",
       "      <td>349.200012</td>\n",
       "      <td>2.483333</td>\n",
       "      <td>18.600000</td>\n",
       "      <td>168.50</td>\n",
       "      <td>48.866665</td>\n",
       "      <td>7821783</td>\n",
       "      <td>10.250000</td>\n",
       "      <td>1.0344</td>\n",
       "      <td>66.599998</td>\n",
       "      <td>0.10</td>\n",
       "      <td>33.299999</td>\n",
       "    </tr>\n",
       "    <tr>\n",
       "      <th>5</th>\n",
       "      <td>6</td>\n",
       "      <td>Cameroon</td>\n",
       "      <td>Africa</td>\n",
       "      <td>1986.800049</td>\n",
       "      <td>5.650000</td>\n",
       "      <td>127.800003</td>\n",
       "      <td>155.00</td>\n",
       "      <td>50.116665</td>\n",
       "      <td>18564118</td>\n",
       "      <td>56.366665</td>\n",
       "      <td>0.6532</td>\n",
       "      <td>NaN</td>\n",
       "      <td>0.75</td>\n",
       "      <td>NaN</td>\n",
       "    </tr>\n",
       "    <tr>\n",
       "      <th>6</th>\n",
       "      <td>7</td>\n",
       "      <td>Cape Verde</td>\n",
       "      <td>Africa</td>\n",
       "      <td>3052.199951</td>\n",
       "      <td>3.500000</td>\n",
       "      <td>81.599998</td>\n",
       "      <td>30.00</td>\n",
       "      <td>73.333336</td>\n",
       "      <td>484867</td>\n",
       "      <td>59.283333</td>\n",
       "      <td>0.6358</td>\n",
       "      <td>84.800003</td>\n",
       "      <td>2.15</td>\n",
       "      <td>NaN</td>\n",
       "    </tr>\n",
       "    <tr>\n",
       "      <th>7</th>\n",
       "      <td>8</td>\n",
       "      <td>Central African Rep</td>\n",
       "      <td>Africa</td>\n",
       "      <td>677.000000</td>\n",
       "      <td>3.383333</td>\n",
       "      <td>106.599998</td>\n",
       "      <td>173.50</td>\n",
       "      <td>45.933334</td>\n",
       "      <td>4203917</td>\n",
       "      <td>38.466667</td>\n",
       "      <td>0.8222</td>\n",
       "      <td>55.200001</td>\n",
       "      <td>0.20</td>\n",
       "      <td>NaN</td>\n",
       "    </tr>\n",
       "    <tr>\n",
       "      <th>8</th>\n",
       "      <td>9</td>\n",
       "      <td>Chad</td>\n",
       "      <td>Africa</td>\n",
       "      <td>1266.199951</td>\n",
       "      <td>1.500000</td>\n",
       "      <td>164.500000</td>\n",
       "      <td>209.00</td>\n",
       "      <td>48.566666</td>\n",
       "      <td>10509983</td>\n",
       "      <td>26.400000</td>\n",
       "      <td>0.8006</td>\n",
       "      <td>33.599998</td>\n",
       "      <td>0.10</td>\n",
       "      <td>NaN</td>\n",
       "    </tr>\n",
       "    <tr>\n",
       "      <th>9</th>\n",
       "      <td>10</td>\n",
       "      <td>Comoros</td>\n",
       "      <td>Africa</td>\n",
       "      <td>1099.000000</td>\n",
       "      <td>2.800000</td>\n",
       "      <td>58.000000</td>\n",
       "      <td>105.75</td>\n",
       "      <td>59.783333</td>\n",
       "      <td>688300</td>\n",
       "      <td>28.000000</td>\n",
       "      <td>0.8554</td>\n",
       "      <td>74.199997</td>\n",
       "      <td>0.40</td>\n",
       "      <td>NaN</td>\n",
       "    </tr>\n",
       "  </tbody>\n",
       "</table>\n",
       "</div>"
      ],
      "text/plain": [
       "   Unnamed: 0              country  region           gdp    school  \\\n",
       "0           1              Algeria  Africa   7300.399902  6.716667   \n",
       "1           2                Benin  Africa   1338.800049  3.100000   \n",
       "2           3             Botswana  Africa  12307.400391  8.600000   \n",
       "3           4         Burkina Faso  Africa   1063.400024  1.300000   \n",
       "4           5              Burundi  Africa    349.200012  2.483333   \n",
       "5           6             Cameroon  Africa   1986.800049  5.650000   \n",
       "6           7           Cape Verde  Africa   3052.199951  3.500000   \n",
       "7           8  Central African Rep  Africa    677.000000  3.383333   \n",
       "8           9                 Chad  Africa   1266.199951  1.500000   \n",
       "9          10              Comoros  Africa   1099.000000  2.800000   \n",
       "\n",
       "       adfert  chldmort       life       pop      urban  femlab   literacy  \\\n",
       "0    7.300000     34.75  72.316666  34172236  64.933334  0.4522  72.599998   \n",
       "1  111.699997    122.75  54.733334   8237634  41.000000  0.8482  41.700001   \n",
       "2   52.099998     60.25  52.250000   1941233  59.250000  0.8870  84.099998   \n",
       "3  124.800003    170.50  53.783333  15308383  23.583334  0.8584  23.600000   \n",
       "4   18.600000    168.50  48.866665   7821783  10.250000  1.0344  66.599998   \n",
       "5  127.800003    155.00  50.116665  18564118  56.366665  0.6532        NaN   \n",
       "6   81.599998     30.00  73.333336    484867  59.283333  0.6358  84.800003   \n",
       "7  106.599998    173.50  45.933334   4203917  38.466667  0.8222  55.200001   \n",
       "8  164.500000    209.00  48.566666  10509983  26.400000  0.8006  33.599998   \n",
       "9   58.000000    105.75  59.783333    688300  28.000000  0.8554  74.199997   \n",
       "\n",
       "     co2       gini  \n",
       "0  15.00        NaN  \n",
       "1   1.20        NaN  \n",
       "2   9.20        NaN  \n",
       "3   0.20        NaN  \n",
       "4   0.10  33.299999  \n",
       "5   0.75        NaN  \n",
       "6   2.15        NaN  \n",
       "7   0.20        NaN  \n",
       "8   0.10        NaN  \n",
       "9   0.40        NaN  "
      ]
     },
     "execution_count": 2,
     "metadata": {},
     "output_type": "execute_result"
    }
   ],
   "source": [
    "df = pd.read_csv('nations.csv', encoding = 'ISO-8859-1')\n",
    "df.head(10)"
   ]
  },
  {
   "cell_type": "code",
   "execution_count": 3,
   "metadata": {},
   "outputs": [],
   "source": [
    "#ONE HOT ENCODING: genera columna 'region_encoding' por region en el df.\n",
    "\n",
    "for continente in df['region'].unique():\n",
    "    df[continente+ '_' + 'region_encoding'] = (np.where(df['region'] == continente , 1, 0))\n",
    "\n"
   ]
  },
  {
   "cell_type": "code",
   "execution_count": 4,
   "metadata": {},
   "outputs": [
    {
     "data": {
      "text/html": [
       "<div>\n",
       "<style scoped>\n",
       "    .dataframe tbody tr th:only-of-type {\n",
       "        vertical-align: middle;\n",
       "    }\n",
       "\n",
       "    .dataframe tbody tr th {\n",
       "        vertical-align: top;\n",
       "    }\n",
       "\n",
       "    .dataframe thead th {\n",
       "        text-align: right;\n",
       "    }\n",
       "</style>\n",
       "<table border=\"1\" class=\"dataframe\">\n",
       "  <thead>\n",
       "    <tr style=\"text-align: right;\">\n",
       "      <th></th>\n",
       "      <th>Unnamed: 0</th>\n",
       "      <th>country</th>\n",
       "      <th>region</th>\n",
       "      <th>gdp</th>\n",
       "      <th>school</th>\n",
       "      <th>adfert</th>\n",
       "      <th>chldmort</th>\n",
       "      <th>life</th>\n",
       "      <th>pop</th>\n",
       "      <th>urban</th>\n",
       "      <th>femlab</th>\n",
       "      <th>literacy</th>\n",
       "      <th>co2</th>\n",
       "      <th>gini</th>\n",
       "      <th>Africa_region_encoding</th>\n",
       "      <th>Americas_region_encoding</th>\n",
       "      <th>Asia_region_encoding</th>\n",
       "      <th>Europe_region_encoding</th>\n",
       "      <th>Oceania_region_encoding</th>\n",
       "    </tr>\n",
       "  </thead>\n",
       "  <tbody>\n",
       "    <tr>\n",
       "      <th>0</th>\n",
       "      <td>1</td>\n",
       "      <td>Algeria</td>\n",
       "      <td>Africa</td>\n",
       "      <td>7300.399902</td>\n",
       "      <td>6.716667</td>\n",
       "      <td>7.300000</td>\n",
       "      <td>34.75</td>\n",
       "      <td>72.316666</td>\n",
       "      <td>34172236</td>\n",
       "      <td>64.933334</td>\n",
       "      <td>0.4522</td>\n",
       "      <td>72.599998</td>\n",
       "      <td>15.0</td>\n",
       "      <td>NaN</td>\n",
       "      <td>1</td>\n",
       "      <td>0</td>\n",
       "      <td>0</td>\n",
       "      <td>0</td>\n",
       "      <td>0</td>\n",
       "    </tr>\n",
       "    <tr>\n",
       "      <th>1</th>\n",
       "      <td>2</td>\n",
       "      <td>Benin</td>\n",
       "      <td>Africa</td>\n",
       "      <td>1338.800049</td>\n",
       "      <td>3.100000</td>\n",
       "      <td>111.699997</td>\n",
       "      <td>122.75</td>\n",
       "      <td>54.733334</td>\n",
       "      <td>8237634</td>\n",
       "      <td>41.000000</td>\n",
       "      <td>0.8482</td>\n",
       "      <td>41.700001</td>\n",
       "      <td>1.2</td>\n",
       "      <td>NaN</td>\n",
       "      <td>1</td>\n",
       "      <td>0</td>\n",
       "      <td>0</td>\n",
       "      <td>0</td>\n",
       "      <td>0</td>\n",
       "    </tr>\n",
       "    <tr>\n",
       "      <th>2</th>\n",
       "      <td>3</td>\n",
       "      <td>Botswana</td>\n",
       "      <td>Africa</td>\n",
       "      <td>12307.400391</td>\n",
       "      <td>8.600000</td>\n",
       "      <td>52.099998</td>\n",
       "      <td>60.25</td>\n",
       "      <td>52.250000</td>\n",
       "      <td>1941233</td>\n",
       "      <td>59.250000</td>\n",
       "      <td>0.8870</td>\n",
       "      <td>84.099998</td>\n",
       "      <td>9.2</td>\n",
       "      <td>NaN</td>\n",
       "      <td>1</td>\n",
       "      <td>0</td>\n",
       "      <td>0</td>\n",
       "      <td>0</td>\n",
       "      <td>0</td>\n",
       "    </tr>\n",
       "    <tr>\n",
       "      <th>3</th>\n",
       "      <td>4</td>\n",
       "      <td>Burkina Faso</td>\n",
       "      <td>Africa</td>\n",
       "      <td>1063.400024</td>\n",
       "      <td>1.300000</td>\n",
       "      <td>124.800003</td>\n",
       "      <td>170.50</td>\n",
       "      <td>53.783333</td>\n",
       "      <td>15308383</td>\n",
       "      <td>23.583334</td>\n",
       "      <td>0.8584</td>\n",
       "      <td>23.600000</td>\n",
       "      <td>0.2</td>\n",
       "      <td>NaN</td>\n",
       "      <td>1</td>\n",
       "      <td>0</td>\n",
       "      <td>0</td>\n",
       "      <td>0</td>\n",
       "      <td>0</td>\n",
       "    </tr>\n",
       "    <tr>\n",
       "      <th>4</th>\n",
       "      <td>5</td>\n",
       "      <td>Burundi</td>\n",
       "      <td>Africa</td>\n",
       "      <td>349.200012</td>\n",
       "      <td>2.483333</td>\n",
       "      <td>18.600000</td>\n",
       "      <td>168.50</td>\n",
       "      <td>48.866665</td>\n",
       "      <td>7821783</td>\n",
       "      <td>10.250000</td>\n",
       "      <td>1.0344</td>\n",
       "      <td>66.599998</td>\n",
       "      <td>0.1</td>\n",
       "      <td>33.299999</td>\n",
       "      <td>1</td>\n",
       "      <td>0</td>\n",
       "      <td>0</td>\n",
       "      <td>0</td>\n",
       "      <td>0</td>\n",
       "    </tr>\n",
       "  </tbody>\n",
       "</table>\n",
       "</div>"
      ],
      "text/plain": [
       "   Unnamed: 0       country  region           gdp    school      adfert  \\\n",
       "0           1       Algeria  Africa   7300.399902  6.716667    7.300000   \n",
       "1           2         Benin  Africa   1338.800049  3.100000  111.699997   \n",
       "2           3      Botswana  Africa  12307.400391  8.600000   52.099998   \n",
       "3           4  Burkina Faso  Africa   1063.400024  1.300000  124.800003   \n",
       "4           5       Burundi  Africa    349.200012  2.483333   18.600000   \n",
       "\n",
       "   chldmort       life       pop      urban  femlab   literacy   co2  \\\n",
       "0     34.75  72.316666  34172236  64.933334  0.4522  72.599998  15.0   \n",
       "1    122.75  54.733334   8237634  41.000000  0.8482  41.700001   1.2   \n",
       "2     60.25  52.250000   1941233  59.250000  0.8870  84.099998   9.2   \n",
       "3    170.50  53.783333  15308383  23.583334  0.8584  23.600000   0.2   \n",
       "4    168.50  48.866665   7821783  10.250000  1.0344  66.599998   0.1   \n",
       "\n",
       "        gini  Africa_region_encoding  Americas_region_encoding  \\\n",
       "0        NaN                       1                         0   \n",
       "1        NaN                       1                         0   \n",
       "2        NaN                       1                         0   \n",
       "3        NaN                       1                         0   \n",
       "4  33.299999                       1                         0   \n",
       "\n",
       "   Asia_region_encoding  Europe_region_encoding  Oceania_region_encoding  \n",
       "0                     0                       0                        0  \n",
       "1                     0                       0                        0  \n",
       "2                     0                       0                        0  \n",
       "3                     0                       0                        0  \n",
       "4                     0                       0                        0  "
      ]
     },
     "execution_count": 4,
     "metadata": {},
     "output_type": "execute_result"
    }
   ],
   "source": [
    "df.head()"
   ]
  },
  {
   "cell_type": "markdown",
   "metadata": {},
   "source": [
    "### 3. Implemente una función de prueba de hipótesis a mano\n",
    "\n",
    "* La función debe ingresar los siguientes argumentos:\n",
    "    * df : La tabla de datos.\n",
    "    * variable : La variable a analizar.\n",
    "    * binarize : El indicador binario a utilizar.\n",
    "    \n",
    "* tips:\n",
    "    * Separe la variable en dos, utilizando el indicador binario. Recuerde eliminar los perdidos con dropna() .\n",
    "    * Implemente ttest_ind de scipy.stats y guarde el valor t y pval .\n",
    "    * Reporte las medias para cada grupo (0 y 1).\n",
    "    * Reporte la diferencia de entre las medias.\n",
    "    * Reporte los valores t y p"
   ]
  },
  {
   "cell_type": "code",
   "execution_count": 6,
   "metadata": {},
   "outputs": [
    {
     "data": {
      "text/plain": [
       "7.459219855196933"
      ]
     },
     "execution_count": 6,
     "metadata": {},
     "output_type": "execute_result"
    }
   ],
   "source": [
    "df.school.mean()"
   ]
  },
  {
   "cell_type": "code",
   "execution_count": 10,
   "metadata": {},
   "outputs": [
    {
     "data": {
      "text/plain": [
       "Ttest_1sampResult(statistic=0.0010185545291120518, pvalue=0.9991883969593943)"
      ]
     },
     "execution_count": 10,
     "metadata": {},
     "output_type": "execute_result"
    }
   ],
   "source": [
    "stats.ttest_1samp(df.school.dropna(), popmean =7.459)"
   ]
  },
  {
   "cell_type": "markdown",
   "metadata": {},
   "source": [
    "$$H_0: \\mu = 7.459$$\n",
    "$$H_0: \\mu \\neq 7.459$$"
   ]
  },
  {
   "cell_type": "code",
   "execution_count": 5,
   "metadata": {},
   "outputs": [],
   "source": [
    "    #test de hipotesis para evaluar si dos medias son iguales\n",
    "def hipotesis_prueba(df,variable,binarize):\n",
    "    \n",
    "    datos_1 = round(df[df[binarize].dropna() == 1][variable].mean(),2) #media de la region\n",
    "    datos_2 = round(df[df[binarize].dropna() == 0][variable].mean(),2) #media del resto del mundo\n",
    "    \n",
    "        #prints\n",
    "    print(f'___________   {binarize}   ___________')\n",
    "    print(stats.ttest_ind(df.dropna().query(str(binarize) + \"== 1\")[variable], df.dropna().query(str(binarize) + \"== 0\")[variable]))\n",
    "    print('La media de la región es:', datos_1)\n",
    "    print('La media del resto del mundo es:', datos_2)\n",
    "    print('La diferencia entre las medias es:', datos_1 - datos_2)"
   ]
  },
  {
   "cell_type": "code",
   "execution_count": 6,
   "metadata": {
    "scrolled": false
   },
   "outputs": [
    {
     "name": "stdout",
     "output_type": "stream",
     "text": [
      "___________   Africa_region_encoding   ___________\n",
      "Ttest_indResult(statistic=-8.930424901851616, pvalue=3.994247363088655e-13)\n",
      "La media de la región es: 65.31\n",
      "La media del resto del mundo es: 90.2\n",
      "La diferencia entre las medias es: -24.89\n"
     ]
    }
   ],
   "source": [
    "hipotesis_prueba(df,\"literacy\",\"Africa_region_encoding\")"
   ]
  },
  {
   "cell_type": "markdown",
   "metadata": {},
   "source": [
    "#### Caso de prueba\n",
    "- Hipotesis Nula: Las tasa de alfabetismo es similar entre los paises de Africa y el resto de las regiones.\n",
    "\n",
    "- Hipotesis Alternativa: La tasa de alfabetismo en Africa, es distinta a la del resto del mundo.\n",
    "\n",
    "#### Analisis\n",
    "Mientras mas pequeno el  pvalue, mas fuerte es la evidencia de la muestra para rechazar la hipotesis nula. En este caso el pvalue es de 3.99, lo que indica que es alta, por lo que en promedio se espera que el resto del mundo presente mayores tasas de alfabetismo que Africa.\n"
   ]
  },
  {
   "cell_type": "markdown",
   "metadata": {},
   "source": [
    "### 4. Implemente una función que grafique los histogramas para ambas muestras.\n",
    "\n",
    "* Genere una función que devuelva un gráfico donde visualice las dos histogramas cuando la variable es 1 y 0, respectivamente.\n",
    "\n",
    "    * tips: Refactorize la función incluyendo el método hist de matplotlib.pyplot .\n",
    "    * Incluya los argumentos alpha y label .\n",
    "\n",
    "* Para las tres variables de interés acorde a su grupo, analice las diferencias de medias por cada continente, y posteriormente grafique. Concluya con los principales resultados al respecto."
   ]
  },
  {
   "cell_type": "code",
   "execution_count": 7,
   "metadata": {},
   "outputs": [],
   "source": [
    "def histo_binarizado(dataframe, variable, binarize):\n",
    "    tmp1 = dataframe[dataframe[binarize] ==1][variable].dropna()\n",
    "    tmp2 = dataframe[dataframe[binarize] ==0][variable].dropna()\n",
    "    t,pvalue = stats.ttest_ind(tmp1,tmp2)\n",
    "    \n",
    "        #prints\n",
    "    print(f'___________   {binarize}   ___________')\n",
    "    print(f' - La media de la variable {variable} para la region {binarize} es igual a: {round(tmp1.mean(),1)}')\n",
    "    print(f' - La media de la variable {variable} para todas las regiones menos {binarize} es igual a: {round(tmp2.mean(),1)}')\n",
    "    print(f' - La diferencia entre ambas medias es: {round(abs(tmp1.mean()-tmp2.mean()),2)}')\n",
    "    print(f' - Los valores t y p son {round(t,2)} y {round(pvalue,4)}, respectivamente.')\n",
    "        #graficos\n",
    "    plt.figure()\n",
    "    plt.hist(tmp1, alpha=.5, color='darkturquoise',label=binarize)\n",
    "    plt.axvline(np.mean(tmp1),color='darkturquoise')\n",
    "    \n",
    "    plt.title(\"{} - {}\".format(variable,binarize))\n",
    "    plt.hist(tmp2, alpha=.5, color='gold',label = 'Fuera de ' + binarize)\n",
    "    plt.axvline(np.mean(tmp2),color='gold')\n",
    "    \n",
    "    plt.title(\"{} - No {}\".format(variable,binarize))\n",
    "    plt.legend()\n",
    "    plt.show()\n",
    " "
   ]
  },
  {
   "cell_type": "markdown",
   "metadata": {},
   "source": [
    "#### AFRICA"
   ]
  },
  {
   "cell_type": "code",
   "execution_count": 8,
   "metadata": {
    "scrolled": false
   },
   "outputs": [
    {
     "name": "stdout",
     "output_type": "stream",
     "text": [
      "___________   Africa_region_encoding   ___________\n",
      " - La media de la variable femlab para la region Africa_region_encoding es igual a: 0.7\n",
      " - La media de la variable femlab para todas las regiones menos Africa_region_encoding es igual a: 0.7\n",
      " - La diferencia entre ambas medias es: 0.05\n",
      " - Los valores t y p son 1.78 y 0.0762, respectivamente.\n"
     ]
    },
    {
     "data": {
      "image/png": "[encoded data removed]",
      "text/plain": [
       "<Figure size 432x288 with 1 Axes>"
      ]
     },
     "metadata": {
      "needs_background": "light"
     },
     "output_type": "display_data"
    }
   ],
   "source": [
    "histo_binarizado(df, 'femlab','Africa_region_encoding') "
   ]
  },
  {
   "cell_type": "markdown",
   "metadata": {},
   "source": [
    "#### Conclusion\n",
    "    El histograma da cuenta de forma grafica la diferencia entre las regiones y Africa respecto a las tasas entre hombres y mujeres en el mercado laboral. Considerando la superposicion de las barras y el valor cercano de las medias (ambas de 0.7), se podria aproximar a no rechazar la hipotesis nula."
   ]
  },
  {
   "cell_type": "code",
   "execution_count": 9,
   "metadata": {
    "scrolled": true
   },
   "outputs": [
    {
     "name": "stdout",
     "output_type": "stream",
     "text": [
      "___________   Africa_region_encoding   ___________\n",
      " - La media de la variable literacy para la region Africa_region_encoding es igual a: 65.3\n",
      " - La media de la variable literacy para todas las regiones menos Africa_region_encoding es igual a: 90.2\n",
      " - La diferencia entre ambas medias es: 24.89\n",
      " - Los valores t y p son -8.91 y 0.0, respectivamente.\n"
     ]
    },
    {
     "data": {
      "image/png": "[encoded data removed]",
      "text/plain": [
       "<Figure size 432x288 with 1 Axes>"
      ]
     },
     "metadata": {
      "needs_background": "light"
     },
     "output_type": "display_data"
    }
   ],
   "source": [
    "histo_binarizado(df, 'literacy','Africa_region_encoding')  "
   ]
  },
  {
   "cell_type": "markdown",
   "metadata": {},
   "source": [
    "#### Conclusion\n",
    "    El histograma da cuenta de forma grafica que las demas regiones presentan tasas de alfabetismo mucho mayores que Africa. Considerando la superposicion de las barras y el valor alejado de las medias y el pvalue de 0.0 se podria aproximar a rechazar la hipotesis nula."
   ]
  },
  {
   "cell_type": "code",
   "execution_count": 10,
   "metadata": {
    "scrolled": false
   },
   "outputs": [
    {
     "name": "stdout",
     "output_type": "stream",
     "text": [
      "___________   Africa_region_encoding   ___________\n",
      " - La media de la variable school para la region Africa_region_encoding es igual a: 4.5\n",
      " - La media de la variable school para todas las regiones menos Africa_region_encoding es igual a: 8.6\n",
      " - La diferencia entre ambas medias es: 4.03\n",
      " - Los valores t y p son -10.42 y 0.0, respectivamente.\n"
     ]
    },
    {
     "data": {
      "image/png": "[encoded data removed]",
      "text/plain": [
       "<Figure size 432x288 with 1 Axes>"
      ]
     },
     "metadata": {
      "needs_background": "light"
     },
     "output_type": "display_data"
    }
   ],
   "source": [
    "histo_binarizado(df, 'school','Africa_region_encoding')  "
   ]
  },
  {
   "cell_type": "markdown",
   "metadata": {},
   "source": [
    "#### Conclusion\n",
    "    El histograma da cuenta de forma grafica que las demas regiones del mundo presentan mayores anios de escolaridad que Africa. Considerando la superposicion de las barras y el valor alejado de las medias y el pvalue de 0.0 se podria aproximar a rechazar la hipotesis nula, lo cual se confirma con la prueba t-student de -10.42."
   ]
  },
  {
   "cell_type": "markdown",
   "metadata": {},
   "source": [
    "#### EUROPE"
   ]
  },
  {
   "cell_type": "code",
   "execution_count": 11,
   "metadata": {},
   "outputs": [
    {
     "name": "stdout",
     "output_type": "stream",
     "text": [
      "___________   Europe_region_encoding   ___________\n",
      " - La media de la variable femlab para la region Europe_region_encoding es igual a: 0.8\n",
      " - La media de la variable femlab para todas las regiones menos Europe_region_encoding es igual a: 0.7\n",
      " - La diferencia entre ambas medias es: 0.1\n",
      " - Los valores t y p son 3.06 y 0.0025, respectivamente.\n"
     ]
    },
    {
     "data": {
      "image/png": "[encoded data removed]",
      "text/plain": [
       "<Figure size 432x288 with 1 Axes>"
      ]
     },
     "metadata": {
      "needs_background": "light"
     },
     "output_type": "display_data"
    }
   ],
   "source": [
    "histo_binarizado(df, 'femlab','Europe_region_encoding') "
   ]
  },
  {
   "cell_type": "markdown",
   "metadata": {},
   "source": [
    "#### Conclusion\n",
    "    El histograma da cuenta de forma grafica la diferencia entre las regiones del resto del mundo y Europa respecto a las tasas entre hombres y mujeres en el mercado laboral. Considerando la superposicion de las barras y  el valor de pvalue muy bajo (0.0025), se podria rechazar fuertemente la hipotesis nula."
   ]
  },
  {
   "cell_type": "code",
   "execution_count": 12,
   "metadata": {
    "scrolled": true
   },
   "outputs": [
    {
     "name": "stdout",
     "output_type": "stream",
     "text": [
      "___________   Europe_region_encoding   ___________\n",
      " - La media de la variable literacy para la region Europe_region_encoding es igual a: 98.2\n",
      " - La media de la variable literacy para todas las regiones menos Europe_region_encoding es igual a: 78.3\n",
      " - La diferencia entre ambas medias es: 19.88\n",
      " - Los valores t y p son 4.72 y 0.0, respectivamente.\n"
     ]
    },
    {
     "data": {
      "image/png": "[encoded data removed]",
      "text/plain": [
       "<Figure size 432x288 with 1 Axes>"
      ]
     },
     "metadata": {
      "needs_background": "light"
     },
     "output_type": "display_data"
    }
   ],
   "source": [
    "histo_binarizado(df, 'literacy','Europe_region_encoding') "
   ]
  },
  {
   "cell_type": "markdown",
   "metadata": {},
   "source": [
    "#### Conclusion\n",
    "    El histograma da cuenta de forma grafica que las demas regiones presentan tasas de alfabetismo mucho menores que Europa. Considerando la superposicion de las barras y el valor alejado de las medias y el pvalue de 0.0 se podria aproximar a rechazar la hipotesis nula."
   ]
  },
  {
   "cell_type": "code",
   "execution_count": 13,
   "metadata": {},
   "outputs": [
    {
     "name": "stdout",
     "output_type": "stream",
     "text": [
      "___________   Europe_region_encoding   ___________\n",
      " - La media de la variable school para la region Europe_region_encoding es igual a: 10.4\n",
      " - La media de la variable school para todas las regiones menos Europe_region_encoding es igual a: 6.6\n",
      " - La diferencia entre ambas medias es: 3.79\n",
      " - Los valores t y p son 8.52 y 0.0, respectivamente.\n"
     ]
    },
    {
     "data": {
      "image/png": "[encoded data removed]",
      "text/plain": [
       "<Figure size 432x288 with 1 Axes>"
      ]
     },
     "metadata": {
      "needs_background": "light"
     },
     "output_type": "display_data"
    }
   ],
   "source": [
    "histo_binarizado(df, 'school','Europe_region_encoding') "
   ]
  },
  {
   "cell_type": "markdown",
   "metadata": {},
   "source": [
    "#### Conclusion\n",
    "    El histograma da cuenta de forma grafica que las demas regiones del mundo presentan menores anios de escolaridad que Europa. Europa presenta una media de anios de 10.4, mientras que las demas regiones 6.6.El valor alejado de las medias y el pvalue de 0.0 se podria aproximar a rechazar la hipotesis nula, lo cual se confirma con la prueba t-student de 8.52"
   ]
  }
 ],
 "metadata": {
  "kernelspec": {
   "display_name": "Python 3",
   "language": "python",
   "name": "python3"
  },
  "language_info": {
   "codemirror_mode": {
    "name": "ipython",
    "version": 3
   },
   "file_extension": ".py",
   "mimetype": "text/x-python",
   "name": "python",
   "nbconvert_exporter": "python",
   "pygments_lexer": "ipython3",
   "version": "3.7.3"
  }
 },
 "nbformat": 4,
 "nbformat_minor": 2
}
